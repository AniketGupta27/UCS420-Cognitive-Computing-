{
 "cells": [
  {
   "cell_type": "markdown",
   "id": "92901251-9678-4201-a6f8-47eee839663a",
   "metadata": {},
   "source": [
    "1. Create a List L that is defined as= [10, 20, 30, 40, 50, 60, 70, 80]."
   ]
  },
  {
   "cell_type": "markdown",
   "id": "68247de0-3a50-4fe4-8f9f-efcec59312bf",
   "metadata": {},
   "source": [
    "i. WAP to add 200 and 300 to L."
   ]
  },
  {
   "cell_type": "code",
   "execution_count": 3,
   "id": "92498e8a-d9c0-4108-90c2-0feb51ddbcd8",
   "metadata": {},
   "outputs": [
    {
     "name": "stdout",
     "output_type": "stream",
     "text": [
      "[10, 20, 30, 40, 50, 60, 70, 80, 200, 300]\n"
     ]
    }
   ],
   "source": [
    "L=[10,20,30,40,50,60,70,80]\n",
    "L.append(200)\n",
    "L.append(300)\n",
    "print(L)"
   ]
  },
  {
   "cell_type": "markdown",
   "id": "8f7ba796-ed4d-4b0e-8928-c9c7b43cf1ca",
   "metadata": {},
   "source": [
    "ii. WAP to remove 10 and 30 from L."
   ]
  },
  {
   "cell_type": "code",
   "execution_count": 6,
   "id": "8355ae20-8d12-4bb6-adf8-302aff079248",
   "metadata": {},
   "outputs": [
    {
     "name": "stdout",
     "output_type": "stream",
     "text": [
      "[20, 40, 50, 60, 70, 80, 200, 300]\n"
     ]
    }
   ],
   "source": [
    "L.remove(10)\n",
    "L.remove(30)\n",
    "print(L)"
   ]
  },
  {
   "cell_type": "markdown",
   "id": "48d90438-8bc9-43b4-8e0b-272dd9a55ee1",
   "metadata": {},
   "source": [
    "iii. WAP to sort L in ascending order."
   ]
  },
  {
   "cell_type": "code",
   "execution_count": 9,
   "id": "b8dce203-a48c-4e5c-a442-294f6ced7eac",
   "metadata": {},
   "outputs": [
    {
     "name": "stdout",
     "output_type": "stream",
     "text": [
      "[20, 40, 50, 60, 70, 80, 200, 300]\n"
     ]
    }
   ],
   "source": [
    "L.sort()\n",
    "print(L)"
   ]
  },
  {
   "cell_type": "markdown",
   "id": "ea76935d-860c-4fcb-aa8e-db355d2eec4a",
   "metadata": {},
   "source": [
    "iv. WAP to sort L in descending order."
   ]
  },
  {
   "cell_type": "code",
   "execution_count": 12,
   "id": "2640aff1-3381-4ec3-8be6-7277f2fb0c5d",
   "metadata": {},
   "outputs": [
    {
     "name": "stdout",
     "output_type": "stream",
     "text": [
      "[300, 200, 80, 70, 60, 50, 40, 20]\n"
     ]
    }
   ],
   "source": [
    "L.sort(reverse=True)\n",
    "print(L)"
   ]
  },
  {
   "cell_type": "markdown",
   "id": "e9badd0e-62ae-481d-85ff-fb5c9aaeb5ed",
   "metadata": {},
   "source": [
    "2. Create a tuple of marks scored as scores = (45, 89.5, 76, 45.4, 89, 92, 58, 45) and\n",
    "perform the following operations using tuple functions:"
   ]
  },
  {
   "cell_type": "markdown",
   "id": "fbd0e7cb-e263-4b20-a5c2-bce0a24e30d3",
   "metadata": {},
   "source": [
    "i. Identify the highest score and its index in the tuple."
   ]
  },
  {
   "cell_type": "code",
   "execution_count": 27,
   "id": "93e48965-82bc-4368-a93f-810f75de64ae",
   "metadata": {},
   "outputs": [
    {
     "name": "stdout",
     "output_type": "stream",
     "text": [
      "92\n"
     ]
    },
    {
     "data": {
      "text/plain": [
       "5"
      ]
     },
     "execution_count": 27,
     "metadata": {},
     "output_type": "execute_result"
    }
   ],
   "source": [
    "T=(45,89.5,76,45.4,89,92,58,45)\n",
    "z=max(T)\n",
    "print(z)\n",
    "T.index(z)"
   ]
  },
  {
   "cell_type": "markdown",
   "id": "3af20786-4c8d-4a84-bcea-1de400a6c326",
   "metadata": {},
   "source": [
    "ii. Find the lowest score and count how many times it appears."
   ]
  },
  {
   "cell_type": "code",
   "execution_count": 20,
   "id": "e08f113b-2506-49c4-9135-61557e7e007f",
   "metadata": {},
   "outputs": [
    {
     "name": "stdout",
     "output_type": "stream",
     "text": [
      "45\n",
      "2\n"
     ]
    }
   ],
   "source": [
    "y=min(T)\n",
    "print(y)\n",
    "print(T.count(y))"
   ]
  },
  {
   "cell_type": "markdown",
   "id": "061cc7ba-f32e-441a-b771-10f503e548f4",
   "metadata": {},
   "source": [
    "iii. Reverse the tuple and return it as a list."
   ]
  },
  {
   "cell_type": "code",
   "execution_count": 25,
   "id": "d144087d-b35a-41d9-871f-c1d658b57bbc",
   "metadata": {},
   "outputs": [
    {
     "data": {
      "text/plain": [
       "[45, 58, 92, 89, 45.4, 76, 89.5, 45]"
      ]
     },
     "execution_count": 25,
     "metadata": {},
     "output_type": "execute_result"
    }
   ],
   "source": [
    "rT=T[::-1]\n",
    "list(rT)"
   ]
  },
  {
   "cell_type": "markdown",
   "id": "acb18c93-489d-4d5e-ad5b-af67fc4421d1",
   "metadata": {},
   "source": [
    "iv. Check if a specific score ‘76’ (input by the user) is present in the tuple and\n",
    "print its first occurrence index, or a message saying it’s not present."
   ]
  },
  {
   "cell_type": "code",
   "execution_count": 30,
   "id": "d7415983-70e2-4188-a4d5-156d56df9775",
   "metadata": {},
   "outputs": [
    {
     "name": "stdout",
     "output_type": "stream",
     "text": [
      "2\n"
     ]
    }
   ],
   "source": [
    "if 76 in T:\n",
    "    print(T.index(76))\n",
    "else:\n",
    "    print(\"It’s not present\")"
   ]
  },
  {
   "cell_type": "markdown",
   "id": "b9cf4be3-1e33-423c-ab11-55c5c61e8c97",
   "metadata": {},
   "source": [
    "3. WAP to create a list of 100 random numbers between 100 and 900. Count and print\n",
    "the:"
   ]
  },
  {
   "cell_type": "markdown",
   "id": "9b00ea1e-b483-499a-b488-5f1ad6f38e1b",
   "metadata": {},
   "source": [
    "i. All odd numbers"
   ]
  },
  {
   "cell_type": "markdown",
   "id": "e8c35429-f192-4d0e-b0a4-d6ac6c1b504b",
   "metadata": {},
   "source": [
    "ii. All even numbers"
   ]
  },
  {
   "cell_type": "markdown",
   "id": "3f4c89ba-add7-4a51-ab3b-656bcdf096e0",
   "metadata": {},
   "source": [
    "iii. All prime numbers"
   ]
  },
  {
   "cell_type": "code",
   "execution_count": 39,
   "id": "6b3e7d3a-afb5-414a-8fe5-ee63cd9ead33",
   "metadata": {},
   "outputs": [
    {
     "name": "stdout",
     "output_type": "stream",
     "text": [
      "[295, 249, 206, 349, 854, 488, 641, 434, 589, 659, 230, 773, 863, 701, 732, 127, 562, 479, 506, 452, 376, 633, 801, 695, 598, 737, 638, 176, 432, 221, 524, 604, 889, 240, 319, 234, 261, 616, 664, 103, 629, 335, 179, 646, 587, 724, 133, 266, 174, 515, 758, 870, 876, 424, 731, 718, 318, 712, 277, 151, 214, 566, 329, 400, 430, 394, 397, 140, 367, 247, 710, 821, 841, 556, 442, 624, 862, 682, 112, 625, 160, 530, 703, 495, 880, 271, 692, 147, 594, 383, 654, 651, 830, 596, 422, 642, 527, 379, 153, 472]\n",
      "\n",
      "\n",
      "[295, 249, 349, 641, 589, 659, 773, 863, 701, 127, 479, 633, 801, 695, 737, 221, 889, 319, 261, 103, 629, 335, 179, 587, 133, 515, 731, 277, 151, 329, 397, 367, 247, 821, 841, 625, 703, 495, 271, 147, 383, 651, 527, 379, 153]\n",
      "\n",
      "\n",
      "[206, 854, 488, 434, 230, 732, 562, 506, 452, 376, 598, 638, 176, 432, 524, 604, 240, 234, 616, 664, 646, 724, 266, 174, 758, 870, 876, 424, 718, 318, 712, 214, 566, 400, 430, 394, 140, 710, 556, 442, 624, 862, 682, 112, 160, 530, 880, 692, 594, 654, 830, 596, 422, 642, 472]\n",
      "\n",
      "\n",
      "[349, 641, 659, 773, 863, 701, 127, 479, 103, 179, 587, 277, 151, 397, 367, 821, 271, 383, 379]\n"
     ]
    }
   ],
   "source": [
    "import random as ran\n",
    "import sympy as sy\n",
    "L=ran.sample(range(100,900),100)\n",
    "print(L)\n",
    "l1=[x for x in L if not x%2==0]\n",
    "l2=[x for x in L if x%2==0]\n",
    "l3=[x for x in L if sy.isprime(x)]\n",
    "print(\"\\n\")\n",
    "print(l1)\n",
    "print(\"\\n\")\n",
    "print(l2)\n",
    "print(\"\\n\")\n",
    "print(l3)"
   ]
  },
  {
   "cell_type": "markdown",
   "id": "563e16a2-2d9d-4522-9ff2-bbe8e256674f",
   "metadata": {},
   "source": [
    "4. Consider the following two sets, A and B, representing scores of two teams in multiple\n",
    "matches. A = {34, 56, 78, 90} and B = {78, 45, 90, 23}\n",
    "WAP to perform the following operations using set functions:"
   ]
  },
  {
   "cell_type": "markdown",
   "id": "65fcae64-2bcc-4645-9e88-f404adc5bf19",
   "metadata": {},
   "source": [
    "i. Find the unique scores achieved by both teams (union of sets)."
   ]
  },
  {
   "cell_type": "markdown",
   "id": "1165ab66-607e-4083-b783-2edb73f09e22",
   "metadata": {},
   "source": [
    "ii. Identify the scores that are common to both teams (intersection of sets)."
   ]
  },
  {
   "cell_type": "markdown",
   "id": "978393af-a297-404e-9ca6-a3e11360428e",
   "metadata": {},
   "source": [
    "iii. Find the scores that are exclusive to each team (symmetric difference)."
   ]
  },
  {
   "cell_type": "markdown",
   "id": "5e208184-abaf-41b5-9f5f-22d9176e572c",
   "metadata": {},
   "source": [
    "iv. Check if the scores of team A are a subset of team B, and if team B's scores are\n",
    "a superset of team A."
   ]
  },
  {
   "cell_type": "markdown",
   "id": "14a03c91-8d65-4b64-bd98-e4866d47aa03",
   "metadata": {},
   "source": [
    "v. Remove a specific score X (input by the user) from set A if it exists. If not, print\n",
    "a message saying it is not present."
   ]
  },
  {
   "cell_type": "code",
   "execution_count": 49,
   "id": "08e7aaad-4c53-4141-a1dd-258f9a201117",
   "metadata": {},
   "outputs": [
    {
     "name": "stdout",
     "output_type": "stream",
     "text": [
      "{34, 45, 78, 23, 56, 90}\n",
      "\n",
      "\n",
      "{90, 78}\n",
      "\n",
      "\n",
      "{34, 45, 23, 56}\n",
      "\n",
      "\n"
     ]
    },
    {
     "name": "stdin",
     "output_type": "stream",
     "text": [
      "Enter score to check 55\n"
     ]
    },
    {
     "name": "stdout",
     "output_type": "stream",
     "text": [
      "55.0  is not present in A\n"
     ]
    }
   ],
   "source": [
    "A = {34, 56, 78, 90} \n",
    "B = {78, 45, 90, 23}\n",
    "print(A.union(B))\n",
    "print(\"\\n\")\n",
    "print(A.intersection(B))\n",
    "print(\"\\n\")\n",
    "print(A.symmetric_difference(B))\n",
    "print(\"\\n\")\n",
    "if A.issubset(B):\n",
    "    print(\"A is subset of B\")\n",
    "if B.issuperset(A):\n",
    "    print(\"B is superset of A\")\n",
    "n=float(input('Enter score to check'))\n",
    "if n in A:\n",
    "    A.remove(n)\n",
    "    print(A)\n",
    "else:\n",
    "    print(n,' is not present in A')"
   ]
  },
  {
   "cell_type": "markdown",
   "id": "80adfbf5-adf2-42cf-b19f-932f690dcf48",
   "metadata": {},
   "source": [
    "5. Write a program to rename a key city to a location in the following dictionary."
   ]
  },
  {
   "cell_type": "code",
   "execution_count": 52,
   "id": "f0e85e81-3a87-44d2-b213-283299c2aead",
   "metadata": {},
   "outputs": [
    {
     "name": "stdout",
     "output_type": "stream",
     "text": [
      "{'name': 'Kelly', 'age': 25, 'salary': 8000, 'location': 'New york'}\n"
     ]
    }
   ],
   "source": [
    "D={\n",
    "    \"name\": \"Kelly\",\n",
    "    \"age\":25,\n",
    "    \"salary\": 8000,\n",
    "    \"city\": \"New york\"\n",
    "}\n",
    "D['location']=D['city']\n",
    "del D['city']\n",
    "print(D)"
   ]
  }
 ],
 "metadata": {
  "kernelspec": {
   "display_name": "Python [conda env:base] *",
   "language": "python",
   "name": "conda-base-py"
  },
  "language_info": {
   "codemirror_mode": {
    "name": "ipython",
    "version": 3
   },
   "file_extension": ".py",
   "mimetype": "text/x-python",
   "name": "python",
   "nbconvert_exporter": "python",
   "pygments_lexer": "ipython3",
   "version": "3.12.7"
  }
 },
 "nbformat": 4,
 "nbformat_minor": 5
}
