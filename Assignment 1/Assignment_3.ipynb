{
 "cells": [
  {
   "cell_type": "code",
   "execution_count": 3,
   "id": "340e28aa-b058-4e70-8b6c-18b1e18d92cd",
   "metadata": {},
   "outputs": [
    {
     "name": "stdin",
     "output_type": "stream",
     "text": [
      "Enter First String:  ANIKET \n",
      "Enter Second String:  GUPTA\n"
     ]
    },
    {
     "name": "stdout",
     "output_type": "stream",
     "text": [
      "ANIKET   +  GUPTA       -->  ANIKET GUPTA\n"
     ]
    }
   ],
   "source": [
    "a = str(input(\"Enter First String: \"))\n",
    "b = input(\"Enter Second String: \")\n",
    "result = a + b\t\t\n",
    "print  (a, \" + \", b, \"      --> \", result)"
   ]
  },
  {
   "cell_type": "code",
   "execution_count": 2,
   "id": "99015975-c28a-48c6-9e00-87044dfccfbd",
   "metadata": {},
   "outputs": [
    {
     "name": "stdin",
     "output_type": "stream",
     "text": [
      "Enter First No:  45\n",
      "Enter Second No:  55\n"
     ]
    },
    {
     "name": "stdout",
     "output_type": "stream",
     "text": [
      "45  +  55  -->  100\n"
     ]
    }
   ],
   "source": [
    "a = int(input(\"Enter First No: \"))\n",
    "b = int(input(\"Enter Second No: \"))\n",
    "result = a + b\n",
    "print (a, \" + \", b, \" --> \", result)"
   ]
  }
 ],
 "metadata": {
  "kernelspec": {
   "display_name": "Python 3 (ipykernel)",
   "language": "python",
   "name": "python3"
  },
  "language_info": {
   "codemirror_mode": {
    "name": "ipython",
    "version": 3
   },
   "file_extension": ".py",
   "mimetype": "text/x-python",
   "name": "python",
   "nbconvert_exporter": "python",
   "pygments_lexer": "ipython3",
   "version": "3.11.7"
  }
 },
 "nbformat": 4,
 "nbformat_minor": 5
}
