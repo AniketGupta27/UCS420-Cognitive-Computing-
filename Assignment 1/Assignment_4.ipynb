{
 "cells": [
  {
   "cell_type": "code",
   "execution_count": 1,
   "id": "147b9641-bc03-4d20-83e1-92e77f14767e",
   "metadata": {},
   "outputs": [
    {
     "name": "stdout",
     "output_type": "stream",
     "text": [
      "Table of 7: \n",
      "7  *  1  =  7\n",
      "7  *  2  =  14\n",
      "7  *  3  =  21\n",
      "7  *  4  =  28\n",
      "7  *  5  =  35\n",
      "7  *  6  =  42\n",
      "7  *  7  =  49\n",
      "7  *  8  =  56\n",
      "7  *  9  =  63\n",
      "7  *  10  =  70\n",
      "Table of 9: \n",
      "9  *  1  =  9\n",
      "9  *  2  =  18\n",
      "9  *  3  =  27\n",
      "9  *  4  =  36\n",
      "9  *  5  =  45\n",
      "9  *  6  =  54\n",
      "9  *  7  =  63\n",
      "9  *  8  =  72\n",
      "9  *  9  =  81\n",
      "9  *  10  =  90\n"
     ]
    }
   ],
   "source": [
    "print(\"Table of 7: \")\n",
    "for i in range(1,11):\n",
    "\tprint (7,\" * \", i , \" = \", i * 7)\n",
    "\n",
    "print(\"Table of 9: \")\n",
    "for i in range(1,11):\n",
    "\tprint (9,\" * \", i , \" = \", i * 9)"
   ]
  },
  {
   "cell_type": "code",
   "execution_count": 5,
   "id": "462bf483-8620-4b58-a86d-a43477f6b653",
   "metadata": {},
   "outputs": [
    {
     "name": "stdin",
     "output_type": "stream",
     "text": [
      "Enter value of n:  5\n"
     ]
    },
    {
     "name": "stdout",
     "output_type": "stream",
     "text": [
      "5  *  1  =  5\n",
      "5  *  2  =  10\n",
      "5  *  3  =  15\n",
      "5  *  4  =  20\n",
      "5  *  5  =  25\n",
      "5  *  6  =  30\n",
      "5  *  7  =  35\n",
      "5  *  8  =  40\n",
      "5  *  9  =  45\n",
      "5  *  10  =  50\n"
     ]
    }
   ],
   "source": [
    "n= int(input(\"Enter value of n: \"))\n",
    "for i in range(1,11):\n",
    "\tprint (n,\" * \", i , \" = \", i * n)"
   ]
  },
  {
   "cell_type": "code",
   "execution_count": 6,
   "id": "da75e499-cf32-47c4-aea6-9ca7b6416072",
   "metadata": {},
   "outputs": [
    {
     "name": "stdin",
     "output_type": "stream",
     "text": [
      "Enter value of n:  10\n"
     ]
    },
    {
     "name": "stdout",
     "output_type": "stream",
     "text": [
      "Sum of numbers from 1 to 10 is: 55\n"
     ]
    }
   ],
   "source": [
    "n = int(input(\"Enter value of n: \")) \n",
    "sum = 0  \n",
    "for i in range(1, n+1):  \n",
    "    sum += i  \n",
    "\n",
    "print(\"Sum of numbers from 1 to\", n, \"is:\", sum)"
   ]
  }
 ],
 "metadata": {
  "kernelspec": {
   "display_name": "Python 3 (ipykernel)",
   "language": "python",
   "name": "python3"
  },
  "language_info": {
   "codemirror_mode": {
    "name": "ipython",
    "version": 3
   },
   "file_extension": ".py",
   "mimetype": "text/x-python",
   "name": "python",
   "nbconvert_exporter": "python",
   "pygments_lexer": "ipython3",
   "version": "3.11.7"
  }
 },
 "nbformat": 4,
 "nbformat_minor": 5
}
