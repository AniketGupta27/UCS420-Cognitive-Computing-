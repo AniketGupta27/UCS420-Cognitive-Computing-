{
 "cells": [
  {
   "cell_type": "code",
   "execution_count": 1,
   "id": "a02d5706-5aeb-430a-998e-c7dfd5558ec2",
   "metadata": {},
   "outputs": [
    {
     "name": "stdin",
     "output_type": "stream",
     "text": [
      "Enter a number:  7\n"
     ]
    },
    {
     "name": "stdout",
     "output_type": "stream",
     "text": [
      "The sum of all odd numbers from 1 to 7 is: 16\n"
     ]
    }
   ],
   "source": [
    "def sum_of_odds(n):\n",
    "    \"\"\"Function to calculate the sum of all odd numbers from 1 to n.\"\"\"\n",
    "    total = 0\n",
    "    for i in range(1, n + 1, 2):  \n",
    "        total += i\n",
    "    return total\n",
    "\n",
    "n = int(input(\"Enter a number: \"))\n",
    "\n",
    "result = sum_of_odds(n)\n",
    "print(f\"The sum of all odd numbers from 1 to {n} is: {result}\")"
   ]
  },
  {
   "cell_type": "code",
   "execution_count": 3,
   "id": "df327d2b-c112-41e1-8e7c-aa7d2197ad64",
   "metadata": {},
   "outputs": [
    {
     "name": "stdin",
     "output_type": "stream",
     "text": [
      "Enter a number:  76\n"
     ]
    },
    {
     "name": "stdout",
     "output_type": "stream",
     "text": [
      "The sum of all prime numbers from 1 to 76 is: 712\n"
     ]
    }
   ],
   "source": [
    "def prime(number):\n",
    "    if number < 2:\n",
    "        return False\n",
    "    for i in range(2, int(number**0.5) + 1):\n",
    "        if number % i == 0:\n",
    "            return False\n",
    "    return True\n",
    "\n",
    "def sum(n):\n",
    "    total = 0\n",
    "    for i in range(1, n + 1):\n",
    "        if prime(i):\n",
    "            total += i\n",
    "    return total\n",
    "\n",
    "n = int(input(\"Enter a number: \"))\n",
    "result = sum(n)\n",
    "print(f\"The sum of all prime numbers from 1 to {n} is: {result}\")"
   ]
  }
 ],
 "metadata": {
  "kernelspec": {
   "display_name": "Python [conda env:base] *",
   "language": "python",
   "name": "conda-base-py"
  },
  "language_info": {
   "codemirror_mode": {
    "name": "ipython",
    "version": 3
   },
   "file_extension": ".py",
   "mimetype": "text/x-python",
   "name": "python",
   "nbconvert_exporter": "python",
   "pygments_lexer": "ipython3",
   "version": "3.12.7"
  }
 },
 "nbformat": 4,
 "nbformat_minor": 5
}
