{
 "cells": [
  {
   "cell_type": "code",
   "execution_count": 1,
   "id": "7d8ee0f6-2e57-4a66-9d4f-e34566c32dbb",
   "metadata": {},
   "outputs": [
    {
     "name": "stdout",
     "output_type": "stream",
     "text": [
      "exp(-200)    -->  1.3838965267367376e-87\n",
      "log(100,2)   -->  6.643856189774725\n",
      "log(100,10)  -->  2.0\n",
      "log10(100)   -->  2.0\n",
      "m.cos(30)    -->  0.15425144988758405\n",
      "m.sin(30)    -->  -0.9880316240928618\n",
      "m.tan(30)    -->  -6.405331196646276\n",
      "m.sqrt(324)  -->  18.0\n",
      "m.ceil(89.9) -->  90\n",
      "m.floor(89.9)-->  89\n"
     ]
    }
   ],
   "source": [
    "import math as m\n",
    "print (\"exp(-200)   -> \", m.exp(-200))  \n",
    "print (\"log(100,2)  -> \", m.log(100,2)) \n",
    "print (\"log(100,10) -> \", m.log(100,10))\n",
    "print (\"log10(100)  -> \", m.log10(100)) \n",
    "print (\"cos(30)     -> \", m.cos(30))    \n",
    "print (\"sin(30)     -> \", m.sin(30))    \n",
    "print (\"tan(30)     -> \", m.tan(30))    \n",
    "print (\"sqrt(324)   -> \", m.sqrt(324))\n",
    "print (\"ceil(89.9)  -> \", m.ceil(89.9))\n",
    "print (\"floor(89.9) -> \", m.floor(89.9))"
   ]
  }
 ],
 "metadata": {
  "kernelspec": {
   "display_name": "Python [conda env:base] *",
   "language": "python",
   "name": "conda-base-py"
  },
  "language_info": {
   "codemirror_mode": {
    "name": "ipython",
    "version": 3
   },
   "file_extension": ".py",
   "mimetype": "text/x-python",
   "name": "python",
   "nbconvert_exporter": "python",
   "pygments_lexer": "ipython3",
   "version": "3.12.7"
  }
 },
 "nbformat": 4,
 "nbformat_minor": 5
}
