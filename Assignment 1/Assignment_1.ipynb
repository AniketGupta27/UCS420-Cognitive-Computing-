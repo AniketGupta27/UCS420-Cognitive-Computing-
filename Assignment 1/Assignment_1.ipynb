{
 "cells": [
  {
   "cell_type": "code",
   "execution_count": 2,
   "id": "dd5039b0-6bdb-4fd6-a1ec-a213bd68dcce",
   "metadata": {},
   "outputs": [
    {
     "name": "stdout",
     "output_type": "stream",
     "text": [
      "Aniket Gupta\n",
      "Aniket Gupta\n",
      "Aniket Gupta\n"
     ]
    }
   ],
   "source": [
    "print(\"Aniket Gupta\")\n",
    "print(\"Aniket Gupta\")\n",
    "print(\"Aniket Gupta\")"
   ]
  },
  {
   "cell_type": "code",
   "execution_count": null,
   "id": "cdd10b3f-08eb-4053-bcd2-1c57fab8e1ad",
   "metadata": {},
   "outputs": [],
   "source": []
  }
 ],
 "metadata": {
  "kernelspec": {
   "display_name": "Python 3 (ipykernel)",
   "language": "python",
   "name": "python3"
  },
  "language_info": {
   "codemirror_mode": {
    "name": "ipython",
    "version": 3
   },
   "file_extension": ".py",
   "mimetype": "text/x-python",
   "name": "python",
   "nbconvert_exporter": "python",
   "pygments_lexer": "ipython3",
   "version": "3.11.7"
  }
 },
 "nbformat": 4,
 "nbformat_minor": 5
}
