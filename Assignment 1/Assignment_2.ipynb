{
 "cells": [
  {
   "cell_type": "code",
   "execution_count": 1,
   "id": "f7ff06e0-0fff-4fa5-88bf-910f2cdc4040",
   "metadata": {},
   "outputs": [
    {
     "data": {
      "text/plain": [
       "30"
      ]
     },
     "execution_count": 1,
     "metadata": {},
     "output_type": "execute_result"
    }
   ],
   "source": [
    "a=10\n",
    "b=15\n",
    "c=5\n",
    "result= a+b+c\n",
    "result"
   ]
  },
  {
   "cell_type": "code",
   "execution_count": 6,
   "id": "4c3d3887-550f-43fa-b0d8-efa3e88cfada",
   "metadata": {},
   "outputs": [
    {
     "name": "stdin",
     "output_type": "stream",
     "text": [
      "Enter valueof a:  15\n",
      "Enter valueof b:  10\n",
      "Enter valueof c:  5\n"
     ]
    },
    {
     "name": "stdout",
     "output_type": "stream",
     "text": [
      "Result:\n"
     ]
    },
    {
     "data": {
      "text/plain": [
       "30"
      ]
     },
     "execution_count": 6,
     "metadata": {},
     "output_type": "execute_result"
    }
   ],
   "source": [
    "input(\"Enter valueof a: \")\n",
    "input(\"Enter valueof b: \")\n",
    "input(\"Enter valueof c: \")\n",
    "result= a+b+c\n",
    "print(\"Result:\") \n",
    "result"
   ]
  },
  {
   "cell_type": "code",
   "execution_count": 9,
   "id": "39da05b4-2ee3-464a-8c6f-1cd85e942015",
   "metadata": {},
   "outputs": [
    {
     "name": "stdout",
     "output_type": "stream",
     "text": [
      "THAPAR  + INSTITUTE  + 100 -> THAPAR INSTITUTE 100\n"
     ]
    }
   ],
   "source": [
    "a = \"THAPAR \"\n",
    "b = \"INSTITUTE \"\n",
    "c = 100\n",
    "result= a + b + str(c)\n",
    "print(a, \"+\" ,b, \"+\" ,c, \"->\", result)"
   ]
  }
 ],
 "metadata": {
  "kernelspec": {
   "display_name": "Python 3 (ipykernel)",
   "language": "python",
   "name": "python3"
  },
  "language_info": {
   "codemirror_mode": {
    "name": "ipython",
    "version": 3
   },
   "file_extension": ".py",
   "mimetype": "text/x-python",
   "name": "python",
   "nbconvert_exporter": "python",
   "pygments_lexer": "ipython3",
   "version": "3.11.7"
  }
 },
 "nbformat": 4,
 "nbformat_minor": 5
}
