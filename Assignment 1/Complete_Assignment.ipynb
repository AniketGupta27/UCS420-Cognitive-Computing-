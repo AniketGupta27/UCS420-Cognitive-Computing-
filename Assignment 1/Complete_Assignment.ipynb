{
 "cells": [
  {
   "cell_type": "markdown",
   "id": "4aa17a19-87be-4586-ae50-90e34076c2ae",
   "metadata": {},
   "source": [
    "Python Basics"
   ]
  },
  {
   "cell_type": "markdown",
   "id": "45301ff7-8e38-4dac-83ee-fc623d1b93ff",
   "metadata": {},
   "source": [
    "1 HELLO WORLD"
   ]
  },
  {
   "cell_type": "code",
   "execution_count": 3,
   "id": "5ec674dd-a231-4de4-8703-93dfb2f42ff8",
   "metadata": {},
   "outputs": [
    {
     "name": "stdout",
     "output_type": "stream",
     "text": [
      "Hello World\n"
     ]
    }
   ],
   "source": [
    "print(\"Hello World\")"
   ]
  },
  {
   "cell_type": "markdown",
   "id": "8f169caf-0949-4708-98b7-015ba71d8e68",
   "metadata": {},
   "source": [
    "Assignment 1.1: WAP to print your name three times"
   ]
  },
  {
   "cell_type": "code",
   "execution_count": 8,
   "id": "0d228549-35b5-460c-b8a1-e6ae877f7575",
   "metadata": {},
   "outputs": [
    {
     "name": "stdout",
     "output_type": "stream",
     "text": [
      "Aniket Gupta\n",
      "Aniket Gupta\n",
      "Aniket Gupta\n"
     ]
    }
   ],
   "source": [
    "for i in range(3):\n",
    "    print(\"Aniket Gupta\")"
   ]
  },
  {
   "cell_type": "markdown",
   "id": "83d71864-2ad5-4b30-9430-d3c6dc07f291",
   "metadata": {},
   "source": [
    "2 Add numbers and Concatinate strings"
   ]
  },
  {
   "cell_type": "markdown",
   "id": "a2412d79-1808-4a4e-87c9-82d6b27f4e2b",
   "metadata": {},
   "source": [
    "2.1 Add two numbers"
   ]
  },
  {
   "cell_type": "code",
   "execution_count": 13,
   "id": "1a1b43ed-f304-45c2-b018-fc927eafe563",
   "metadata": {},
   "outputs": [
    {
     "name": "stdout",
     "output_type": "stream",
     "text": [
      "10 + 30 -> 40\n"
     ]
    }
   ],
   "source": [
    "a = 10\n",
    "b = 30\n",
    "result = a+b\n",
    "print(a,\"+\",b ,\"->\", result)"
   ]
  },
  {
   "cell_type": "markdown",
   "id": "29bd6ca1-7be2-437e-a314-ecf6482030ab",
   "metadata": {},
   "source": [
    "2.2 Concatinate two strings"
   ]
  },
  {
   "cell_type": "code",
   "execution_count": 26,
   "id": "8c077e60-ef33-45eb-9d38-a2938003f7dd",
   "metadata": {},
   "outputs": [
    {
     "name": "stdout",
     "output_type": "stream",
     "text": [
      "Aniket +  Gupta -> Aniket Gupta\n"
     ]
    }
   ],
   "source": [
    "a = \"Aniket\"\n",
    "b = \" Gupta\"\n",
    "result = a + b\t\t\n",
    "print (a,\"+\", b,\"->\", result)"
   ]
  },
  {
   "cell_type": "markdown",
   "id": "70447a55-1bfc-49ad-b05e-537567abf8bc",
   "metadata": {},
   "source": [
    "2.3 Concatinate string with number"
   ]
  },
  {
   "cell_type": "code",
   "execution_count": 28,
   "id": "eef91016-ae3a-49a0-a150-6d2cd4f35882",
   "metadata": {},
   "outputs": [
    {
     "name": "stdout",
     "output_type": "stream",
     "text": [
      "Aniket + 100 -> Aniket100\n"
     ]
    }
   ],
   "source": [
    "a = \"Aniket\"\n",
    "b = 100\n",
    "result = a + str(b)\t\t\n",
    "print (a,\"+\",b ,\"->\", result)"
   ]
  },
  {
   "cell_type": "markdown",
   "id": "585c45fe-5c74-4a92-8a08-538b12905299",
   "metadata": {},
   "source": [
    "Assingment 2.1: WAP to add three numbers and print the result."
   ]
  },
  {
   "cell_type": "code",
   "execution_count": 30,
   "id": "debc54d6-6ae2-4e7c-9963-436c1372928a",
   "metadata": {},
   "outputs": [
    {
     "name": "stdout",
     "output_type": "stream",
     "text": [
      "100 + 200 + 300 -> 600\n"
     ]
    }
   ],
   "source": [
    "a= 100\n",
    "b= 200\n",
    "c= 300\n",
    "result = a+b +c\n",
    "print (a,\"+\",b ,\"+\",c ,\"->\", result)"
   ]
  },
  {
   "cell_type": "markdown",
   "id": "5f2ec53d-4072-410f-af3e-8dfdb8bc6b02",
   "metadata": {},
   "source": [
    "Assingment 2.2: WAP to concatinate three strings and print the result."
   ]
  },
  {
   "cell_type": "code",
   "execution_count": 33,
   "id": "547c3a45-7e44-45f2-82c2-8f290db9168b",
   "metadata": {},
   "outputs": [
    {
     "name": "stdout",
     "output_type": "stream",
     "text": [
      "Hey Guys Wassup\n"
     ]
    }
   ],
   "source": [
    "a = \"Hey\"\n",
    "b = \" Guys\"\n",
    "c = \" Wassup\"\n",
    "result= a+b+c\n",
    "print(result)"
   ]
  },
  {
   "cell_type": "markdown",
   "id": "bac7e425-0599-4fd9-bf10-0f69ced8ebcf",
   "metadata": {},
   "source": [
    "3 Input from user"
   ]
  },
  {
   "cell_type": "markdown",
   "id": "6d1456bb-6c47-4c58-846a-2d3e1ec6b881",
   "metadata": {},
   "source": [
    "3.1 Input two strings from user and concatinate them"
   ]
  },
  {
   "cell_type": "code",
   "execution_count": 39,
   "id": "93dc9936-0871-47d8-a2af-aecfb86dd83d",
   "metadata": {},
   "outputs": [
    {
     "name": "stdin",
     "output_type": "stream",
     "text": [
      "Enter 1st Value:  Aniket\n",
      "Enter 2nd Value:   Gupta\n"
     ]
    },
    {
     "name": "stdout",
     "output_type": "stream",
     "text": [
      "Aniket +  Gupta -> Aniket Gupta\n"
     ]
    }
   ],
   "source": [
    "a = input(\"Enter 1st Value: \")\n",
    "b = input(\"Enter 2nd Value: \")\n",
    "result= a+b\n",
    "print(a,\"+\",b ,\"->\", result)"
   ]
  },
  {
   "cell_type": "markdown",
   "id": "dfb43d90-0501-4ff1-a5ee-1dc44fa4b6cf",
   "metadata": {},
   "source": [
    "3.2 Input two numbers from user and add them"
   ]
  },
  {
   "cell_type": "code",
   "execution_count": 44,
   "id": "5aeebf69-68d2-4453-b5bd-0a13ec271d1c",
   "metadata": {},
   "outputs": [
    {
     "name": "stdin",
     "output_type": "stream",
     "text": [
      "Enter 1st Number:  52\n",
      "Enter 2nd Number:  25\n"
     ]
    },
    {
     "name": "stdout",
     "output_type": "stream",
     "text": [
      "52 + 25 -> 77\n"
     ]
    }
   ],
   "source": [
    "a = int(input(\"Enter 1st Number: \"))\n",
    "b = int(input(\"Enter 2nd Number: \"))\n",
    "result= a+b\n",
    "print(a,\"+\",b ,\"->\", result)"
   ]
  },
  {
   "cell_type": "markdown",
   "id": "99c7ba5c-9929-4ce0-8287-131fb440f522",
   "metadata": {},
   "source": [
    "4 Loop"
   ]
  },
  {
   "cell_type": "markdown",
   "id": "b8eaad52-e521-4a7d-ac19-3a99814dbd1a",
   "metadata": {},
   "source": [
    "4.1 While Loop"
   ]
  },
  {
   "cell_type": "code",
   "execution_count": 50,
   "id": "d374073d-8b1a-416c-a41e-1dbb3cd41749",
   "metadata": {},
   "outputs": [
    {
     "name": "stdout",
     "output_type": "stream",
     "text": [
      "1\n",
      "2\n",
      "3\n",
      "4\n",
      "5\n",
      "6\n",
      "7\n"
     ]
    }
   ],
   "source": [
    "i =1\n",
    "while i<=7:\n",
    "    print(i)\n",
    "    i = i+1"
   ]
  },
  {
   "cell_type": "markdown",
   "id": "c4b8c599-e41a-40bc-bb45-fa350c2da944",
   "metadata": {},
   "source": [
    "4.2 Range Function"
   ]
  },
  {
   "cell_type": "code",
   "execution_count": 58,
   "id": "4cabbf45-a75e-491a-9b9c-1214e91731fb",
   "metadata": {},
   "outputs": [
    {
     "name": "stdout",
     "output_type": "stream",
     "text": [
      "range(5)        -->  [0, 1, 2, 3, 4]\n",
      "range(5,10)     -->  [5, 6, 7, 8, 9]\n",
      "range(0,20,2)    -->  [2, 4, 6, 8, 10, 12, 14, 16, 18]\n",
      "range(-10,-20,2) -->  []\n",
      "range(-10,-20,-2)-->  [-10, -12, -14, -16, -18]\n"
     ]
    }
   ],
   "source": [
    "print (\"range(5)        --> \", list(range(5)))\n",
    "print (\"range(5,10)     --> \", list(range(5,10)))\n",
    "print (\"range(0,20,2)    --> \", list(range(2,20,2)))\n",
    "print (\"range(-10,-20,2) --> \", list(range(-10,-20,2)))\n",
    "print (\"range(-10,-20,-2)--> \", list(range(-10,-20,-2)))"
   ]
  },
  {
   "cell_type": "markdown",
   "id": "722bafbf-254a-48f0-8433-143432397dec",
   "metadata": {},
   "source": [
    "4.3 For loop"
   ]
  },
  {
   "cell_type": "markdown",
   "id": "a06d0428-0b8c-44ec-b1ae-5f31ea8b3ddc",
   "metadata": {},
   "source": [
    "4.3.1 For loop - Version 1"
   ]
  },
  {
   "cell_type": "code",
   "execution_count": 66,
   "id": "b3f1c89f-1a61-42dc-980d-2115a63aeaae",
   "metadata": {},
   "outputs": [
    {
     "name": "stdout",
     "output_type": "stream",
     "text": [
      "0\n",
      "1\n",
      "2\n",
      "3\n",
      "4\n",
      "5\n",
      "6\n",
      "7\n",
      "8\n",
      "9\n"
     ]
    }
   ],
   "source": [
    "for i in range(0,10):\n",
    "    print (i)"
   ]
  },
  {
   "cell_type": "markdown",
   "id": "534ecb2d-d079-42b6-98e8-81b73acbf6f1",
   "metadata": {},
   "source": [
    "4.3.2 For loop - Version 2"
   ]
  },
  {
   "cell_type": "code",
   "execution_count": 71,
   "id": "fe47d2ac-c65c-49f4-a99e-69a9c5b1857d",
   "metadata": {},
   "outputs": [
    {
     "name": "stdout",
     "output_type": "stream",
     "text": [
      "0\n",
      "2\n",
      "4\n",
      "6\n",
      "8\n",
      "10\n",
      "12\n",
      "14\n",
      "16\n",
      "18\n"
     ]
    }
   ],
   "source": [
    "for i in range(0,20,2):\n",
    "\tprint (i)"
   ]
  },
  {
   "cell_type": "markdown",
   "id": "c77a347f-5a29-4535-83c8-917cfb4d6fa2",
   "metadata": {},
   "source": [
    "4.3.3 For loop - Version 3"
   ]
  },
  {
   "cell_type": "code",
   "execution_count": 74,
   "id": "42f4aaa7-8050-4150-b87d-b768973b4185",
   "metadata": {},
   "outputs": [
    {
     "name": "stdout",
     "output_type": "stream",
     "text": [
      "0\n",
      "-1\n",
      "-2\n",
      "-3\n",
      "-4\n",
      "-5\n",
      "-6\n",
      "-7\n",
      "-8\n",
      "-9\n"
     ]
    }
   ],
   "source": [
    "for i in range(0,-10,-1):\n",
    "\tprint (i)"
   ]
  },
  {
   "cell_type": "markdown",
   "id": "91331cb3-0455-46ce-89db-1d05d8150600",
   "metadata": {},
   "source": [
    "4.4 Print table of 5"
   ]
  },
  {
   "cell_type": "code",
   "execution_count": 79,
   "id": "a8c046c3-975e-4f3c-933f-310ca9bf01a0",
   "metadata": {},
   "outputs": [
    {
     "name": "stdout",
     "output_type": "stream",
     "text": [
      "5 * 1 = 5\n",
      "5 * 2 = 10\n",
      "5 * 3 = 15\n",
      "5 * 4 = 20\n",
      "5 * 5 = 25\n",
      "5 * 6 = 30\n",
      "5 * 7 = 35\n",
      "5 * 8 = 40\n",
      "5 * 9 = 45\n",
      "5 * 10 = 50\n"
     ]
    }
   ],
   "source": [
    "for i in range(1,11):\n",
    "    print(5,\"*\", i,\"=\", 5*i)"
   ]
  },
  {
   "cell_type": "markdown",
   "id": "8c53f765-a504-4f60-b11b-261a68067955",
   "metadata": {},
   "source": [
    "4.5 Sum all numbers from 1 to 10"
   ]
  },
  {
   "cell_type": "markdown",
   "id": "037c962b-5494-476b-ae5a-7f10463baf62",
   "metadata": {},
   "source": [
    "4.5.1 Version 1"
   ]
  },
  {
   "cell_type": "code",
   "execution_count": 91,
   "id": "a2c5f73e-e044-428a-9201-f371a4604722",
   "metadata": {},
   "outputs": [
    {
     "name": "stdout",
     "output_type": "stream",
     "text": [
      "Sum: 55\n"
     ]
    }
   ],
   "source": [
    "sum =0\n",
    "for i in range(1,11):\n",
    "    sum= sum +i\n",
    "print(\"Sum:\", sum)"
   ]
  },
  {
   "cell_type": "markdown",
   "id": "ec9176f8-8dc6-406a-ada8-65948ad5f511",
   "metadata": {},
   "source": [
    "4.5.2 Version 2"
   ]
  },
  {
   "cell_type": "markdown",
   "id": "4b9a7fb5-8a56-4ab3-a2f5-2ffc7c046ccc",
   "metadata": {},
   "source": [
    "print(\"Sum:\", sum(range(1,11)))"
   ]
  },
  {
   "cell_type": "markdown",
   "id": "f8fb1570-93af-49ef-8291-f254d9ee7752",
   "metadata": {},
   "source": [
    "Sum: 55"
   ]
  },
  {
   "cell_type": "markdown",
   "id": "1df7d106-97ec-495f-938b-5768bb0ac7bd",
   "metadata": {},
   "source": [
    "Assingment 4.1: WAP to print the table of 7, 9."
   ]
  },
  {
   "cell_type": "markdown",
   "id": "667ae270-c005-45e1-bb0c-b68f2b34fa8d",
   "metadata": {},
   "source": [
    "Table of 7"
   ]
  },
  {
   "cell_type": "code",
   "execution_count": 115,
   "id": "b25141a3-798f-4c0f-bdd6-c89149920939",
   "metadata": {},
   "outputs": [
    {
     "name": "stdout",
     "output_type": "stream",
     "text": [
      "7 * 1 = 7\n",
      "7 * 2 = 14\n",
      "7 * 3 = 21\n",
      "7 * 4 = 28\n",
      "7 * 5 = 35\n",
      "7 * 6 = 42\n",
      "7 * 7 = 49\n",
      "7 * 8 = 56\n",
      "7 * 9 = 63\n",
      "7 * 10 = 70\n"
     ]
    }
   ],
   "source": [
    "for i in range(1,11):\n",
    "    print(7,\"*\", i,\"=\", 7*i)"
   ]
  },
  {
   "cell_type": "markdown",
   "id": "d0b96e58-eb9f-4368-bcfd-df1a364956e0",
   "metadata": {},
   "source": [
    "Table of 9"
   ]
  },
  {
   "cell_type": "code",
   "execution_count": 118,
   "id": "928f4024-827e-4f11-8d26-d440235a5f76",
   "metadata": {},
   "outputs": [
    {
     "name": "stdout",
     "output_type": "stream",
     "text": [
      "9 * 1 = 9\n",
      "9 * 2 = 18\n",
      "9 * 3 = 27\n",
      "9 * 4 = 36\n",
      "9 * 5 = 45\n",
      "9 * 6 = 54\n",
      "9 * 7 = 63\n",
      "9 * 8 = 72\n",
      "9 * 9 = 81\n",
      "9 * 10 = 90\n"
     ]
    }
   ],
   "source": [
    "for i in range(1,11):\n",
    "    print(9,\"*\", i,\"=\", 9*i)"
   ]
  },
  {
   "cell_type": "markdown",
   "id": "380e02bc-e7bf-4563-866d-d2ba5f400b47",
   "metadata": {},
   "source": [
    "Assingment 4.2: WAP to print the table of n and n is given by user."
   ]
  },
  {
   "cell_type": "code",
   "execution_count": 121,
   "id": "7b833cc5-bcee-4b6f-adeb-f7a7544f3697",
   "metadata": {},
   "outputs": [
    {
     "name": "stdin",
     "output_type": "stream",
     "text": [
      "Enter a number:  5\n"
     ]
    },
    {
     "name": "stdout",
     "output_type": "stream",
     "text": [
      "5 * 1 = 5\n",
      "5 * 2 = 10\n",
      "5 * 3 = 15\n",
      "5 * 4 = 20\n",
      "5 * 5 = 25\n",
      "5 * 6 = 30\n",
      "5 * 7 = 35\n",
      "5 * 8 = 40\n",
      "5 * 9 = 45\n",
      "5 * 10 = 50\n"
     ]
    }
   ],
   "source": [
    "n= int(input(\"Enter a number: \"))\n",
    "for i in range(1,11):\n",
    "       print(n,\"*\",i,\"=\",n*i)"
   ]
  },
  {
   "cell_type": "markdown",
   "id": "d32b05f1-fcab-4e5d-ab52-bc34c0b5b3f2",
   "metadata": {},
   "source": [
    "Assingment 4.3: WAP to add all the numbers from 1 to n and n is given by user."
   ]
  },
  {
   "cell_type": "code",
   "execution_count": 128,
   "id": "1f7f1d63-7911-476f-857d-ba1a73a1a28f",
   "metadata": {},
   "outputs": [
    {
     "name": "stdin",
     "output_type": "stream",
     "text": [
      "Enter a number:  11\n"
     ]
    },
    {
     "name": "stdout",
     "output_type": "stream",
     "text": [
      "Sum: 55\n"
     ]
    }
   ],
   "source": [
    "n= int(input(\"Enter a number: \"))\n",
    "sum =0\n",
    "for i in range(1,n):\n",
    "    sum = sum +i\n",
    "print(\"Sum:\",sum)"
   ]
  },
  {
   "cell_type": "markdown",
   "id": "83ba9782-21e8-41d6-8b34-67a9f41f0fc1",
   "metadata": {},
   "source": [
    "5 If-Else - Conditional Checking"
   ]
  },
  {
   "cell_type": "markdown",
   "id": "ae299eb0-1e15-422a-ae46-2a868838b098",
   "metadata": {},
   "source": [
    "5.1 Input two numbers from user and compare them"
   ]
  },
  {
   "cell_type": "code",
   "execution_count": 132,
   "id": "8a60e628-c63c-4722-a5f6-13544a27e5ec",
   "metadata": {},
   "outputs": [
    {
     "name": "stdin",
     "output_type": "stream",
     "text": [
      "Enter First Number:  65\n",
      "Enter Second Number:  87\n"
     ]
    },
    {
     "name": "stdout",
     "output_type": "stream",
     "text": [
      "65  <  87\n"
     ]
    }
   ],
   "source": [
    "a = int(input(\"Enter First Number: \"))\n",
    "b = int(input(\"Enter Second Number: \"))\n",
    "if  a > b:\n",
    "\tprint (a,\" > \",b)\n",
    "else:\n",
    "\tprint (a,\" < \",b)"
   ]
  },
  {
   "cell_type": "markdown",
   "id": "7736c35f-74fe-493f-8103-ed8d21ab2f84",
   "metadata": {},
   "source": [
    "5.2 Check weather a number is odd or even"
   ]
  },
  {
   "cell_type": "code",
   "execution_count": 135,
   "id": "5446c247-24ce-48c8-9609-f9bac29065e7",
   "metadata": {},
   "outputs": [
    {
     "name": "stdin",
     "output_type": "stream",
     "text": [
      "Enter a Number:  87\n"
     ]
    },
    {
     "name": "stdout",
     "output_type": "stream",
     "text": [
      "87 is odd\n"
     ]
    }
   ],
   "source": [
    "num = int(input(\"Enter a Number: \"))\n",
    "if num%2 ==0:\n",
    "    print(num, \"is even\")\n",
    "else:\n",
    "    print(num, \"is odd\")"
   ]
  },
  {
   "cell_type": "markdown",
   "id": "016d63a0-c184-463f-b96d-5522d797c69b",
   "metadata": {},
   "source": [
    "5.3 Check weather a number is prime or not"
   ]
  },
  {
   "cell_type": "code",
   "execution_count": 147,
   "id": "2e078f41-b4ef-4a5e-ab1c-c0ade3cda18d",
   "metadata": {},
   "outputs": [
    {
     "name": "stdin",
     "output_type": "stream",
     "text": [
      "Enter a number:  43\n"
     ]
    },
    {
     "name": "stdout",
     "output_type": "stream",
     "text": [
      "Number is prime\n"
     ]
    }
   ],
   "source": [
    "num = int(input(\"Enter a number: \"))\n",
    "check =0\n",
    "for i in range(2,num//2 +1):\n",
    "    if num% i== 0:\n",
    "        check = 1\n",
    "        break\n",
    "if check==1:\n",
    "    print(\"Number is not prime\")\n",
    "else:\n",
    "    print(\"Number is prime\")"
   ]
  },
  {
   "cell_type": "markdown",
   "id": "15802c39-e5d5-44ad-adc6-5cafc79dc2f1",
   "metadata": {},
   "source": [
    "5.4 Conditional Checking - Compare strings"
   ]
  },
  {
   "cell_type": "code",
   "execution_count": 152,
   "id": "34010861-6a6a-4258-9106-77819317d351",
   "metadata": {},
   "outputs": [
    {
     "name": "stdin",
     "output_type": "stream",
     "text": [
      "Enter First String :  Aniket\n",
      "Enter Second String:  Gupta\n"
     ]
    },
    {
     "name": "stdout",
     "output_type": "stream",
     "text": [
      "a < b\n"
     ]
    }
   ],
   "source": [
    "a = input(\"Enter First String : \")\n",
    "b = input(\"Enter Second String: \")\n",
    "\n",
    "if a == b:\n",
    "\tprint (\"a == b\")\n",
    "elif a >= b:\n",
    "\tprint (\"a > b\")\n",
    "else:\n",
    "\tprint (\"a < b\")\n",
    "     "
   ]
  },
  {
   "cell_type": "markdown",
   "id": "83892697-6978-4c3f-a0c3-9d1b7de90ab1",
   "metadata": {},
   "source": [
    "Assingment 5.1: WAP to find max amoung three numbers and input from user. [Try max() function]"
   ]
  },
  {
   "cell_type": "code",
   "execution_count": 155,
   "id": "1e204d33-1ca3-41bf-a40a-222bee58141b",
   "metadata": {},
   "outputs": [
    {
     "name": "stdin",
     "output_type": "stream",
     "text": [
      "Enter the first number:  45\n",
      "Enter the second number:  65\n",
      "Enter the third number:  76\n"
     ]
    },
    {
     "name": "stdout",
     "output_type": "stream",
     "text": [
      "The maximum number is: 76\n"
     ]
    }
   ],
   "source": [
    "num1 = int(input(\"Enter the first number: \"))\n",
    "num2 = int(input(\"Enter the second number: \"))\n",
    "num3 = int(input(\"Enter the third number: \"))\n",
    "\n",
    "maximum = max(num1, num2, num3)\n",
    "print(\"The maximum number is:\", maximum)"
   ]
  },
  {
   "cell_type": "markdown",
   "id": "c59883fe-4c30-431c-b6cd-9cb8c3d7bf94",
   "metadata": {},
   "source": [
    "Assingment 5.2: WAP to add all numbers divisible by 7 and 9 from 1 to n and n is given by the user."
   ]
  },
  {
   "cell_type": "code",
   "execution_count": 160,
   "id": "ea6c8fb3-aff1-426f-b6a4-125556661a21",
   "metadata": {},
   "outputs": [
    {
     "name": "stdin",
     "output_type": "stream",
     "text": [
      "Enter a number n:  500\n"
     ]
    },
    {
     "name": "stdout",
     "output_type": "stream",
     "text": [
      "The sum of numbers divisible by both 7 and 9 from 1 to 500 is: 1764\n"
     ]
    }
   ],
   "source": [
    "n = int(input(\"Enter a number n: \"))\n",
    "sum = 0\n",
    "\n",
    "for i in range(1, n + 1):\n",
    "    if i % 7 == 0 and i % 9 == 0: \n",
    "        sum += i\n",
    "        \n",
    "print(\"The sum of numbers divisible by both 7 and 9 from 1 to\", n, \"is:\", sum)"
   ]
  },
  {
   "cell_type": "markdown",
   "id": "6bc4b5b3-4657-48eb-a538-b26d3f5e406c",
   "metadata": {},
   "source": [
    "Assingment 5.3: WAP to add all prime numbers from 1 to n and n is given by the user"
   ]
  },
  {
   "cell_type": "code",
   "execution_count": 173,
   "id": "af0ded44-d69a-490c-9ea8-3578c857c764",
   "metadata": {},
   "outputs": [
    {
     "name": "stdin",
     "output_type": "stream",
     "text": [
      "Enter a number:  50\n"
     ]
    },
    {
     "name": "stdout",
     "output_type": "stream",
     "text": [
      "The sum of primes from 1 to 500 is: 328\n"
     ]
    }
   ],
   "source": [
    "num = int(input(\"Enter a number: \"))\n",
    "sum =0\n",
    "for i in range(1,num+1):\n",
    "    check =0\n",
    "    for j in range(2,i//2 + 1):\n",
    "        if i% j== 0:\n",
    "            check = 1\n",
    "            break\n",
    "    if check==0 and i>1:\n",
    "        sum = sum+i\n",
    "print(\"The sum of primes from 1 to\", n,\"is:\",sum)"
   ]
  },
  {
   "cell_type": "markdown",
   "id": "b6b13150-3eb6-4b69-a248-c7e895087445",
   "metadata": {},
   "source": [
    "6 Functions"
   ]
  },
  {
   "cell_type": "markdown",
   "id": "6228ba63-a102-4a92-9db3-bc65200e72f7",
   "metadata": {},
   "source": [
    "6.1 Add two numbers"
   ]
  },
  {
   "cell_type": "code",
   "execution_count": 179,
   "id": "75165d06-aa73-4e99-9724-98a267b09f03",
   "metadata": {},
   "outputs": [
    {
     "name": "stdout",
     "output_type": "stream",
     "text": [
      "Add(10,20) --> 30\n",
      "Add(20,50) --> 70\n",
      "Add(80,200) --> 280\n"
     ]
    }
   ],
   "source": [
    "def Add(a,b):\n",
    "\tresult=a+b\n",
    "\treturn result\n",
    "\n",
    "print (\"Add(10,20) -->\", Add(10,20))\n",
    "print (\"Add(20,50) -->\", Add(20,50))\n",
    "print (\"Add(80,200) -->\", Add(80,200))"
   ]
  },
  {
   "cell_type": "markdown",
   "id": "208d1a9f-d193-4e77-83ae-0121ac032339",
   "metadata": {},
   "source": [
    "6.2 Prime number"
   ]
  },
  {
   "cell_type": "code",
   "execution_count": 190,
   "id": "13424de6-1c9c-47bb-a051-b310fc827a55",
   "metadata": {},
   "outputs": [
    {
     "name": "stdout",
     "output_type": "stream",
     "text": [
      "IsPrime(28)  -->  0\n",
      "IsPrime(65)  -->  0\n",
      "IsPrime(2807) -->  0\n",
      "IsPrime(379)  -->  1\n"
     ]
    }
   ],
   "source": [
    "def IsPrime(num):\n",
    "\tfor i in range(2, num//2 + 1):\n",
    "\t\tif num%i==0:\n",
    "\t\t\treturn 0\n",
    "\treturn 1\n",
    "\n",
    "print (\"IsPrime(28)  --> \", IsPrime(28))\n",
    "print (\"IsPrime(65)  --> \", IsPrime(65))\n",
    "print (\"IsPrime(2807) --> \", IsPrime(2807))\n",
    "print (\"IsPrime(379)  --> \", IsPrime(379))"
   ]
  },
  {
   "cell_type": "markdown",
   "id": "59d64370-dd13-44bf-9469-2e47bebdfcf7",
   "metadata": {},
   "source": [
    "6.3 Add 1 to n"
   ]
  },
  {
   "cell_type": "code",
   "execution_count": 203,
   "id": "2e166dbd-def9-4a1b-9acb-5dc77175de57",
   "metadata": {},
   "outputs": [
    {
     "name": "stdout",
     "output_type": "stream",
     "text": [
      "add(13)  -->  91\n",
      "add(25)  -->  325\n",
      "add(56)  -->  1596\n",
      "add(250) -->  31375\n"
     ]
    }
   ],
   "source": [
    "def add(n):\n",
    "    sum=0\n",
    "    for i in range(1,n+1):\n",
    "        sum= sum+i\n",
    "    return sum\n",
    "\n",
    "print (\"add(13)  --> \", add(13))\n",
    "print (\"add(25)  --> \", add(25))\n",
    "print (\"add(56)  --> \", add(56))\n",
    "print (\"add(250) --> \", add(250))"
   ]
  },
  {
   "cell_type": "markdown",
   "id": "af370ec5-e992-4b68-90c8-121b6558dcec",
   "metadata": {},
   "source": [
    "\n",
    "Assingment 6.1: WAP using function that add all odd numbers from 1 to n, n is given by the user."
   ]
  },
  {
   "cell_type": "code",
   "execution_count": 210,
   "id": "6b23db33-6e65-4ca9-9e3e-b0148a28d9d7",
   "metadata": {},
   "outputs": [
    {
     "name": "stdin",
     "output_type": "stream",
     "text": [
      "Enter a number:  5\n"
     ]
    },
    {
     "name": "stdout",
     "output_type": "stream",
     "text": [
      "Sum of odd numbers upto 5 = 9\n"
     ]
    }
   ],
   "source": [
    "n = int(input(\"Enter a number: \"))\n",
    "def add_odd(n):\n",
    "    sum =0\n",
    "    for i in range(1,n+1,2):\n",
    "        sum = sum+i\n",
    "    return sum\n",
    "\n",
    "print(\"Sum of odd numbers upto\", n,\"=\",add_odd(n))"
   ]
  },
  {
   "cell_type": "markdown",
   "id": "ca507fc7-c0d8-4d1a-a6f6-2948bb0cf536",
   "metadata": {},
   "source": [
    "Assingment 6.2: WAP using function that add all prime numbers from 1 to n, n given by the user."
   ]
  },
  {
   "cell_type": "code",
   "execution_count": 220,
   "id": "54606eed-02c6-48aa-ad01-6afc0c3c8260",
   "metadata": {},
   "outputs": [
    {
     "name": "stdin",
     "output_type": "stream",
     "text": [
      "Enter a number:  10\n"
     ]
    },
    {
     "name": "stdout",
     "output_type": "stream",
     "text": [
      "Sum of prime numbers upto 10 = 17\n"
     ]
    }
   ],
   "source": [
    "n = int(input(\"Enter a number: \"))\n",
    "def add_prime(n):\n",
    "    sum =0\n",
    "    for i in range(1,n+1):\n",
    "        check =0\n",
    "        for j in range(2,i//2 +1):\n",
    "            if i%j==0:\n",
    "                check =1\n",
    "                break\n",
    "        if check==0 and i>1:\n",
    "            sum = sum+i\n",
    "    return sum\n",
    "\n",
    "print(\"Sum of prime numbers upto\", n,\"=\",add_prime(n))"
   ]
  },
  {
   "cell_type": "markdown",
   "id": "47e8ee78-4b2a-49e9-8027-576bf64c470d",
   "metadata": {},
   "source": [
    "7 Math library"
   ]
  },
  {
   "cell_type": "code",
   "execution_count": 223,
   "id": "398f27cc-acd5-4276-b2a4-fda6e956aa23",
   "metadata": {},
   "outputs": [
    {
     "name": "stdout",
     "output_type": "stream",
     "text": [
      "exp(-200)    -->  1.3838965267367376e-87\n",
      "log(100,2)   -->  6.643856189774725\n",
      "log(100,10)  -->  2.0\n",
      "log10(100)   -->  2.0\n",
      "m.cos(30)    -->  0.15425144988758405\n",
      "m.sin(30)    -->  -0.9880316240928618\n",
      "m.tan(30)    -->  -6.405331196646276\n",
      "m.sqrt(324)  -->  18.0\n",
      "m.ceil(89.9) -->  90\n",
      "m.floor(89.9)-->  89\n"
     ]
    }
   ],
   "source": [
    "import math as m\n",
    "print (\"exp(-200)    --> \", m.exp(-200))  \n",
    "print (\"log(100,2)   --> \", m.log(100,2)) \n",
    "print (\"log(100,10)  --> \", m.log(100,10))\n",
    "print (\"log10(100)   --> \", m.log10(100)) \n",
    "print (\"m.cos(30)    --> \", m.cos(30))    \n",
    "print (\"m.sin(30)    --> \", m.sin(30))    \n",
    "print (\"m.tan(30)    --> \", m.tan(30))    \n",
    "print (\"m.sqrt(324)  --> \", m.sqrt(324))\n",
    "print (\"m.ceil(89.9) --> \", m.ceil(89.9))\n",
    "print (\"m.floor(89.9)--> \", m.floor(89.9))"
   ]
  },
  {
   "cell_type": "markdown",
   "id": "7fc417f1-dd1b-4a34-a41c-9fbbff3b24dd",
   "metadata": {},
   "source": [
    "8 Strings"
   ]
  },
  {
   "cell_type": "markdown",
   "id": "7bb8955e-3714-45b7-a187-a2aa4de65ddf",
   "metadata": {},
   "source": [
    "8.1 Indexing in string"
   ]
  },
  {
   "cell_type": "code",
   "execution_count": 227,
   "id": "37f10988-9a68-4fb4-bab9-e8612d8d6516",
   "metadata": {},
   "outputs": [
    {
     "name": "stdout",
     "output_type": "stream",
     "text": [
      "var      -->  Hello World!\n",
      "var[0]   -->  H\n",
      "var[1:5] -->  ello\n",
      "var[:-5] -->  Hello W\n"
     ]
    }
   ],
   "source": [
    "var = 'Hello World!'\n",
    "print (\"var      --> \", var)\n",
    "print (\"var[0]   --> \", var[0])\n",
    "print (\"var[1:5] --> \", var[1:5])\n",
    "print (\"var[:-5] --> \", var[:-5])"
   ]
  },
  {
   "cell_type": "markdown",
   "id": "fa9b6721-beaf-4cf5-8c8b-48e6b8008f54",
   "metadata": {},
   "source": [
    "8.2 String length, upper, lower"
   ]
  },
  {
   "cell_type": "code",
   "execution_count": 230,
   "id": "41e3d355-859e-42fa-8789-060af50c4119",
   "metadata": {},
   "outputs": [
    {
     "name": "stdout",
     "output_type": "stream",
     "text": [
      "String -->  Hello World!\n",
      "Length --> :  12\n",
      "Upper  --> :  HELLO WORLD!\n",
      "Lower  --> :  hello world!\n"
     ]
    }
   ],
   "source": [
    "var = 'Hello World!'\n",
    "print (\"String --> \", var)\n",
    "print (\"Length --> : \", len(var))\n",
    "print (\"Upper  --> : \", var.upper())\n",
    "print (\"Lower  --> : \", var.lower())"
   ]
  },
  {
   "cell_type": "markdown",
   "id": "0ca27630-e552-4594-9955-a338becd759d",
   "metadata": {},
   "source": [
    "8.3 String formatting"
   ]
  },
  {
   "cell_type": "code",
   "execution_count": 237,
   "id": "74602de1-fa64-4bff-b1b4-c796783650bf",
   "metadata": {},
   "outputs": [
    {
     "name": "stdin",
     "output_type": "stream",
     "text": [
      "Enter your name:  Aniket\n",
      "Enter your age :  19\n",
      "Enter the book price:  500.75\n"
     ]
    },
    {
     "name": "stdout",
     "output_type": "stream",
     "text": [
      "\n",
      "Your name is Aniket, age is 19 and book price is 500.750000\n",
      "\n",
      "Your name is ANIKET, age is 19 and book price is 500.750000\n"
     ]
    }
   ],
   "source": [
    "name=input(\"Enter your name: \")\n",
    "age=int(input(\"Enter your age : \"))\n",
    "price=float(input(\"Enter the book price: \"))\n",
    "s=\"\\nYour name is %s, age is %d and book price is %f\" %(name,age,price)\n",
    "print (s)\n",
    "z=\"\\nYour name is %s, age is %d and book price is %f\" %(name.upper(),age,price)\n",
    "print (z)"
   ]
  },
  {
   "cell_type": "markdown",
   "id": "f57220a8-65f4-4b0a-ba11-8d999b7dc6fe",
   "metadata": {},
   "source": [
    "8.4 String in Triple Quotes"
   ]
  },
  {
   "cell_type": "code",
   "execution_count": 240,
   "id": "48f91f3a-db94-469d-8893-244f396d7031",
   "metadata": {},
   "outputs": [
    {
     "name": "stdout",
     "output_type": "stream",
     "text": [
      "This is a long string that is made up of\n",
      "several lines and non-printable characters such as\n",
      "TAB ( \t ) and they will show up that way when displayed.\n",
      "NEWLINEs within the string, whether explicitly given like\n",
      "this within the brackets [ \n",
      " ], or just a NEWLINE within\n",
      "the variable assignment will also show up.\n",
      "\n"
     ]
    }
   ],
   "source": [
    "para_str = \"\"\"This is a long string that is made up of\n",
    "several lines and non-printable characters such as\n",
    "TAB ( \\t ) and they will show up that way when displayed.\n",
    "NEWLINEs within the string, whether explicitly given like\n",
    "this within the brackets [ \\n ], or just a NEWLINE within\n",
    "the variable assignment will also show up.\n",
    "\"\"\"\n",
    "print (para_str)"
   ]
  },
  {
   "cell_type": "markdown",
   "id": "cb226252-d57e-42c3-ace0-ab1b42707f26",
   "metadata": {},
   "source": [
    "8.5 String strip"
   ]
  },
  {
   "cell_type": "code",
   "execution_count": 243,
   "id": "a6f90ffe-1511-4126-8036-3c1032d92451",
   "metadata": {},
   "outputs": [
    {
     "name": "stdout",
     "output_type": "stream",
     "text": [
      "String    -->   Aniket   Gupta    \n",
      "Length    -->  19\n",
      "var strip -->  Aniket   Gupta\n",
      "Length of var after strip -->  14\n"
     ]
    }
   ],
   "source": [
    "var =\" Aniket   Gupta    \"\n",
    "\n",
    "print(\"String    --> \", var)\n",
    "print(\"Length    --> \", len(var))\n",
    "print(\"var strip --> \", var.strip())\n",
    "print(\"Length of var after strip --> \", len(var.strip()))"
   ]
  },
  {
   "cell_type": "markdown",
   "id": "1d5f0a14-8cc2-4dd1-b02a-7857b5273cb5",
   "metadata": {},
   "source": [
    "8.6 String split"
   ]
  },
  {
   "cell_type": "code",
   "execution_count": 256,
   "id": "13405c60-0328-4152-881a-c68560c893f0",
   "metadata": {},
   "outputs": [
    {
     "name": "stdout",
     "output_type": "stream",
     "text": [
      "String    -->   Indian,   Army    \n",
      "Length    -->  19\n",
      "var split -->  ['Indian,', 'Army']\n",
      "var split -->  ['', 'Indian,', '', '', 'Army', '', '', '', '']\n",
      "var split -->  [' Indian', '   Army    ']\n",
      "var split -->  ['Indian', '   Army']\n"
     ]
    }
   ],
   "source": [
    "var =\" Indian,   Army    \"\n",
    "\n",
    "print(\"String    --> \", var)\n",
    "print(\"Length    --> \", len(var))\n",
    "print(\"var split --> \", var.split())\n",
    "print(\"var split --> \", var.split(' '))\n",
    "print(\"var split --> \", var.split(','))\n",
    "\n",
    "# Strip + Split\n",
    "print(\"var split --> \", var.strip().split(','))"
   ]
  },
  {
   "cell_type": "markdown",
   "id": "c450f2b7-e341-4382-903a-8bfd6f25aa07",
   "metadata": {},
   "source": [
    "\n",
    "8.7 Count in string"
   ]
  },
  {
   "cell_type": "code",
   "execution_count": 265,
   "id": "56b9282b-c6ca-4d7b-b5f2-f56adac01e21",
   "metadata": {},
   "outputs": [
    {
     "name": "stdout",
     "output_type": "stream",
     "text": [
      "String       -->   Aniket Gupta    \n",
      "Count of ' ' -->  6\n",
      "Count of 't' -->  2\n",
      "Count of 'a ' -->  1\n",
      "Count of '  ' -->  2\n",
      "Count of 'ni' -->  1\n"
     ]
    }
   ],
   "source": [
    "var=\" Aniket Gupta    \"\n",
    "print (\"String       --> \", var)\n",
    "print (\"Count of ' ' --> \", var.count(' '))\n",
    "print (\"Count of 't' --> \", var.count('t'))\n",
    "print (\"Count of 'a ' --> \", var.count('a '))\n",
    "print (\"Count of '  ' --> \", var.count('  '))\n",
    "print (\"Count of 'ni' --> \", var.count('ni'))"
   ]
  },
  {
   "cell_type": "markdown",
   "id": "2b275434-3857-46d3-8191-ea0e6c2fa4be",
   "metadata": {},
   "source": [
    "8.8 Reverse a String"
   ]
  },
  {
   "cell_type": "code",
   "execution_count": 281,
   "id": "9c4593e6-448b-4809-b031-1e75e8b98fab",
   "metadata": {},
   "outputs": [
    {
     "name": "stdout",
     "output_type": "stream",
     "text": [
      "String   ->  Hello World\n",
      "var[::1] ->  Hello World\n",
      "var[::2] ->  HloWrd\n",
      "var[::3] ->  HlWl\n",
      "var[::-1]->  dlroW olleH\n",
      "var[::-2]->  drWolH\n",
      "var after reverse ->  dlroW olleH\n"
     ]
    }
   ],
   "source": [
    "var=\"Hello World\"\n",
    "print (\"String   -> \", var)\n",
    "print (\"var[::1] -> \", var[::1])\n",
    "print (\"var[::2] -> \", var[::2])\n",
    "print (\"var[::3] -> \", var[::3])\n",
    "print (\"var[::-1]-> \", var[::-1])\n",
    "print (\"var[::-2]-> \", var[::-2])\n",
    "\n",
    "var=var[::-1]\n",
    "print (\"var after reverse -> \", var)"
   ]
  },
  {
   "cell_type": "markdown",
   "id": "3fa5bdb8-3d6d-4e97-bded-47d133b745c1",
   "metadata": {},
   "source": [
    "8.9 Palindrome"
   ]
  },
  {
   "cell_type": "code",
   "execution_count": 277,
   "id": "480fbafc-4d01-470a-a67b-31e465a0ad13",
   "metadata": {},
   "outputs": [
    {
     "name": "stdout",
     "output_type": "stream",
     "text": [
      "s1->  False\n",
      "s2->  True\n",
      "s3->  True\n",
      "s4->  False\n"
     ]
    }
   ],
   "source": [
    "s1=\"Indian Army\"\n",
    "s2=\"malayalam\"\n",
    "s3=\"madam\"\n",
    "s4=\"teacher\"\n",
    "print (\"s1-> \", s1==s1[::-1])\n",
    "print (\"s2-> \", s2==s2[::-1])\n",
    "print (\"s3-> \", s3==s3[::-1])\n",
    "print (\"s4-> \", s4==s4[::-1])"
   ]
  },
  {
   "cell_type": "markdown",
   "id": "66060272-eeca-40db-8f65-8d18d63f57b6",
   "metadata": {},
   "source": [
    "9 Random Numbers/String"
   ]
  },
  {
   "cell_type": "markdown",
   "id": "f6bb7fd2-6f24-4388-813e-7799d60b1eb0",
   "metadata": {},
   "source": [
    "9.1 Generate random number between 0 and 1"
   ]
  },
  {
   "cell_type": "code",
   "execution_count": 285,
   "id": "d07b3afb-d539-4f22-8ecb-44d77890454d",
   "metadata": {},
   "outputs": [
    {
     "name": "stdout",
     "output_type": "stream",
     "text": [
      "0.20122685206511892\n",
      "0.2355396618133625\n",
      "0.854\n"
     ]
    }
   ],
   "source": [
    "import random as r\n",
    "print (r.random())\n",
    "print (r.random())\n",
    "print (round(r.random(),4))"
   ]
  },
  {
   "cell_type": "markdown",
   "id": "7859421d-cdd9-429e-ba5b-f44cfacd7770",
   "metadata": {},
   "source": [
    "9.2 Generate random integer number"
   ]
  },
  {
   "cell_type": "code",
   "execution_count": 6,
   "id": "ba465945-4287-43c9-aacb-be7597dccf04",
   "metadata": {},
   "outputs": [
    {
     "name": "stdout",
     "output_type": "stream",
     "text": [
      "69\n",
      "36\n",
      "-6\n",
      "-8\n"
     ]
    }
   ],
   "source": [
    "import random as r\n",
    "print (r.randint(1, 100))\n",
    "print (r.randint(1, 100))\n",
    "print (r.randint(-10, -5))\n",
    "print (r.randint(-10, 10))"
   ]
  },
  {
   "cell_type": "markdown",
   "id": "b1729738-908d-423d-b859-a9536a353cdd",
   "metadata": {},
   "source": [
    "9.3 Generate random real number"
   ]
  },
  {
   "cell_type": "code",
   "execution_count": 4,
   "id": "d503c998-e35d-400b-9f1f-9c7294df1bb8",
   "metadata": {},
   "outputs": [
    {
     "name": "stdout",
     "output_type": "stream",
     "text": [
      "43.08539492579782\n",
      "23.11256024681801\n",
      "-3.203205708588781\n",
      "-2.369256366777255\n",
      "3.71\n"
     ]
    }
   ],
   "source": [
    "import random as r\n",
    "print (r.uniform(1, 100))\n",
    "print (r.uniform(1, 100))\n",
    "print (r.uniform (-10, 10))\n",
    "print (r.uniform (-10, 10))\n",
    "print (round(r.uniform (-10, 10),2))"
   ]
  },
  {
   "cell_type": "markdown",
   "id": "4284b9f3-6563-4cf3-a035-ee4dcdc11854",
   "metadata": {},
   "source": [
    "9.4 Select sample from a list of elements"
   ]
  },
  {
   "cell_type": "code",
   "execution_count": 11,
   "id": "a4d92eda-63d3-4807-ad8f-27ad2444d559",
   "metadata": {},
   "outputs": [
    {
     "name": "stdout",
     "output_type": "stream",
     "text": [
      "[7, 1, 6, 5]\n",
      "[8, 7]\n",
      "[0, 3, 1]\n",
      "[2, 20, -17, -25, 52]\n"
     ]
    }
   ],
   "source": [
    "import random as r\n",
    "A=[1, 4, 5, 6, 7, 8, 9, 10]\n",
    "print (r.sample(A, 4))\n",
    "print (r.sample(A, 2))\n",
    "print(r.sample(range(0,5),3))\n",
    "print (r.sample(range(-100,100), 5))"
   ]
  },
  {
   "cell_type": "markdown",
   "id": "974e3268-0a23-469f-b50d-dbe2b9f5e347",
   "metadata": {},
   "source": [
    "\n",
    "9.5 Generate random string"
   ]
  },
  {
   "cell_type": "code",
   "execution_count": 14,
   "id": "8cfaae7a-8649-4cf7-ad74-b7df9bd06821",
   "metadata": {},
   "outputs": [
    {
     "name": "stdout",
     "output_type": "stream",
     "text": [
      "String        -->  abcdefghijklmnopqrstuvwxyzABCDEFGHIJKLMNOPQRSTUVWXYZ\n",
      "Selected Char -->  ['T', 'K', 'E', 'C', 'D', 'n']\n",
      "passwd1       -->  TKECDn\n",
      "passwd2       -->  T+K+E+C+D+n\n",
      "passwd3       -->  T*K*E*C*D*n\n"
     ]
    }
   ],
   "source": [
    "import string as s\n",
    "import random as r\n",
    "print (\"String        --> \",s.ascii_letters)\n",
    "\n",
    "passwd=r.sample(s.ascii_letters, 6)\n",
    "print (\"Selected Char --> \",passwd)\n",
    "\n",
    "passwd1=\"\".join(passwd)\n",
    "print (\"passwd1       --> \",passwd1)\n",
    "\n",
    "passwd2=\"+\".join(passwd)\n",
    "print (\"passwd2       --> \",passwd2)\n",
    "\n",
    "passwd3=\"*\".join(passwd)\n",
    "print (\"passwd3       --> \",passwd3)"
   ]
  },
  {
   "cell_type": "markdown",
   "id": "96ab5d2e-4d27-42f3-96a4-d6d4d6b8e60e",
   "metadata": {},
   "source": [
    "9.6 Generate random digits"
   ]
  },
  {
   "cell_type": "code",
   "execution_count": 17,
   "id": "6ab24d06-37ca-4c11-84f1-4a94118dbb9c",
   "metadata": {},
   "outputs": [
    {
     "name": "stdout",
     "output_type": "stream",
     "text": [
      "Digits -->  0123456789\n",
      "Selected num1 -->  ['6', '0', '1', '5', '8']\n",
      "otp1          -->  60158\n",
      "Selected num2 -->  ['3', '9', '4', '6', '5']\n",
      "otp2          -->  39465\n",
      "Selected num2 -->  ['0', '6', '8', '5', '2']\n",
      "otp3          -->  06852\n"
     ]
    }
   ],
   "source": [
    "import string as s\n",
    "import random as r\n",
    "print (\"Digits --> \",s.digits)\n",
    "\n",
    "otp=r.sample(s.digits, 5)\n",
    "print (\"Selected num1 --> \",otp)\n",
    "otp=\"\".join(otp)\n",
    "print (\"otp1          --> \",otp)\n",
    "\n",
    "otp=r.sample(s.digits, 5)\n",
    "print (\"Selected num2 --> \",otp)\n",
    "otp=\"\".join(otp)\n",
    "print (\"otp2          --> \",otp)\n",
    "\n",
    "otp=r.sample(s.digits, 5)\n",
    "print (\"Selected num2 --> \",otp)\n",
    "otp=\"\".join(otp)\n",
    "print (\"otp3          --> \",otp)"
   ]
  },
  {
   "cell_type": "markdown",
   "id": "51e6f862-884a-4391-856e-c147e3e04142",
   "metadata": {},
   "source": [
    "9.7 Generate random string + digits"
   ]
  },
  {
   "cell_type": "code",
   "execution_count": 20,
   "id": "aa2348e9-729f-4f4f-9d05-b3d458933261",
   "metadata": {},
   "outputs": [
    {
     "name": "stdout",
     "output_type": "stream",
     "text": [
      "String + Digits -->  abcdefghijklmnopqrstuvwxyzABCDEFGHIJKLMNOPQRSTUVWXYZ0123456789\n",
      "\n",
      "Selected Str1 -->  ['J', 'B', 'F', 's', 'm']\n",
      "mixPasswd1    -->  JBFsm\n",
      "\n",
      "Selected Str2 -->  ['a', 'w', 'D', 'P', 'x', 'g']\n",
      "mixPasswd2    -->  awDPxg\n",
      "\n",
      "Selected Str3 -->  ['f', 'l', '{', 'i', 't', 'G', 'h', 'D']\n",
      "mixPasswd3    -->  fl{itGhD\n"
     ]
    }
   ],
   "source": [
    "import string as s\n",
    "import random as r\n",
    "print (\"String + Digits --> \",s.ascii_letters + s.digits)\n",
    "\n",
    "mixPasswd=r.sample(s.ascii_letters + s.digits, 5)\n",
    "print (\"\\nSelected Str1 --> \",mixPasswd)\n",
    "mixPasswd=\"\".join(mixPasswd)\n",
    "print (\"mixPasswd1    --> \",mixPasswd)\n",
    "\n",
    "mixPasswd=r.sample(s.ascii_letters + s.digits, 6)\n",
    "print (\"\\nSelected Str2 --> \",mixPasswd)\n",
    "mixPasswd=\"\".join(mixPasswd)\n",
    "print (\"mixPasswd2    --> \",mixPasswd)\n",
    "\n",
    "splChar=\"#@!~%^&*()_+=-[]{}|\"\n",
    "mixPasswd=r.sample(splChar + s.ascii_letters + s.digits, 8)\n",
    "print (\"\\nSelected Str3 --> \",mixPasswd)\n",
    "mixPasswd=\"\".join(mixPasswd)\n",
    "print (\"mixPasswd3    --> \",mixPasswd)"
   ]
  },
  {
   "cell_type": "markdown",
   "id": "152d9a99-6682-4d38-967f-ad1879c277ba",
   "metadata": {},
   "source": [
    "10 Exception Handaling"
   ]
  },
  {
   "cell_type": "markdown",
   "id": "936be750-7745-4d26-a910-ec073d95f5f3",
   "metadata": {},
   "source": [
    "10.1 Error Generation\n"
   ]
  },
  {
   "cell_type": "code",
   "execution_count": 24,
   "id": "da02b7d4-cc9f-41a3-aa2f-348ccaef13a0",
   "metadata": {},
   "outputs": [
    {
     "name": "stdout",
     "output_type": "stream",
     "text": [
      "100/ -5  -->  -20.0\n",
      "100/ -4  -->  -25.0\n",
      "100/ -3  -->  -33.333333333333336\n",
      "100/ -2  -->  -50.0\n",
      "100/ -1  -->  -100.0\n"
     ]
    },
    {
     "ename": "ZeroDivisionError",
     "evalue": "division by zero",
     "output_type": "error",
     "traceback": [
      "\u001b[1;31m---------------------------------------------------------------------------\u001b[0m",
      "\u001b[1;31mZeroDivisionError\u001b[0m                         Traceback (most recent call last)",
      "Cell \u001b[1;32mIn[24], line 2\u001b[0m\n\u001b[0;32m      1\u001b[0m \u001b[38;5;28;01mfor\u001b[39;00m i \u001b[38;5;129;01min\u001b[39;00m \u001b[38;5;28mrange\u001b[39m(\u001b[38;5;241m-\u001b[39m\u001b[38;5;241m5\u001b[39m,\u001b[38;5;241m6\u001b[39m):\n\u001b[1;32m----> 2\u001b[0m \t\u001b[38;5;28mprint\u001b[39m (\u001b[38;5;124m\"\u001b[39m\u001b[38;5;124m100/\u001b[39m\u001b[38;5;124m\"\u001b[39m,i,\u001b[38;5;124m\"\u001b[39m\u001b[38;5;124m --> \u001b[39m\u001b[38;5;124m\"\u001b[39m, \u001b[38;5;241m100\u001b[39m\u001b[38;5;241m/\u001b[39mi)\n",
      "\u001b[1;31mZeroDivisionError\u001b[0m: division by zero"
     ]
    }
   ],
   "source": [
    "for i in range(-5,6):\n",
    "\tprint (\"100/\",i,\" --> \", 100/i)\n"
   ]
  },
  {
   "cell_type": "markdown",
   "id": "55a542cc-1b7c-4bc1-a3c9-3f0e16d417f2",
   "metadata": {},
   "source": [
    "10.2 Exception handaling for division by zero"
   ]
  },
  {
   "cell_type": "code",
   "execution_count": 29,
   "id": "82f92d0d-6cc3-459a-99e0-46f735377424",
   "metadata": {},
   "outputs": [
    {
     "name": "stdout",
     "output_type": "stream",
     "text": [
      "100/ -10 -> -10.0\n",
      "100/ -9 -> -11.11111111111111\n",
      "100/ -8 -> -12.5\n",
      "100/ -7 -> -14.285714285714286\n",
      "100/ -6 -> -16.666666666666668\n",
      "100/ -5 -> -20.0\n",
      "100/ -4 -> -25.0\n",
      "100/ -3 -> -33.333333333333336\n",
      "100/ -2 -> -50.0\n",
      "100/ -1 -> -100.0\n",
      "ERROR\n",
      "100/ 1 -> 100.0\n",
      "100/ 2 -> 50.0\n",
      "100/ 3 -> 33.333333333333336\n",
      "100/ 4 -> 25.0\n",
      "100/ 5 -> 20.0\n",
      "100/ 6 -> 16.666666666666668\n",
      "100/ 7 -> 14.285714285714286\n",
      "100/ 8 -> 12.5\n",
      "100/ 9 -> 11.11111111111111\n"
     ]
    }
   ],
   "source": [
    "for i in range(-10,10):\n",
    "    try:\n",
    "        print(\"100/\",i,\"->\", 100/i)\n",
    "    except:\n",
    "        print(\"ERROR\")"
   ]
  },
  {
   "cell_type": "markdown",
   "id": "f2c5d13e-82e0-4c62-837c-805f01144034",
   "metadata": {},
   "source": [
    "\n",
    "10.3 Exception handaling for array out of index"
   ]
  },
  {
   "cell_type": "code",
   "execution_count": 32,
   "id": "3a0575fc-0525-40bc-be80-bfa73e36e277",
   "metadata": {},
   "outputs": [
    {
     "name": "stdout",
     "output_type": "stream",
     "text": [
      "0  -->  51\n",
      "1  -->  20\n",
      "2  -->  65\n",
      "3  -->  45\n",
      "4  -->  85\n",
      "5  -->  76\n",
      "error\n",
      "error\n",
      "error\n",
      "error\n"
     ]
    }
   ],
   "source": [
    "L=[51,20,65,45,85,76]\n",
    "\n",
    "for i in range(10):\n",
    "\ttry:\n",
    "\t\tprint (i,\" --> \",L[i])\n",
    "\texcept:\n",
    "\t\tprint (\"error\")"
   ]
  },
  {
   "cell_type": "markdown",
   "id": "9c61249a-0dae-4640-b365-0a51a42e5270",
   "metadata": {},
   "source": [
    "10.4 Exception handaling for file not found"
   ]
  },
  {
   "cell_type": "code",
   "execution_count": 35,
   "id": "28ed4acb-2b76-4f32-921a-48c0c5f1bef3",
   "metadata": {},
   "outputs": [
    {
     "name": "stdin",
     "output_type": "stream",
     "text": [
      "Enter File Name:  file.txt\n"
     ]
    },
    {
     "ename": "FileNotFoundError",
     "evalue": "[Errno 2] No such file or directory: 'file.txt'",
     "output_type": "error",
     "traceback": [
      "\u001b[1;31m---------------------------------------------------------------------------\u001b[0m",
      "\u001b[1;31mFileNotFoundError\u001b[0m                         Traceback (most recent call last)",
      "Cell \u001b[1;32mIn[35], line 2\u001b[0m\n\u001b[0;32m      1\u001b[0m fileName\u001b[38;5;241m=\u001b[39m\u001b[38;5;28minput\u001b[39m(\u001b[38;5;124m\"\u001b[39m\u001b[38;5;124mEnter File Name: \u001b[39m\u001b[38;5;124m\"\u001b[39m)\n\u001b[1;32m----> 2\u001b[0m fp\u001b[38;5;241m=\u001b[39m\u001b[38;5;28mopen\u001b[39m(fileName)\t\n\u001b[0;32m      3\u001b[0m fp\u001b[38;5;241m.\u001b[39mclose()\n\u001b[0;32m      4\u001b[0m \u001b[38;5;28mprint\u001b[39m (\u001b[38;5;124m\"\u001b[39m\u001b[38;5;124mDone\u001b[39m\u001b[38;5;124m\"\u001b[39m)\n",
      "File \u001b[1;32m~\\anaconda3\\Lib\\site-packages\\IPython\\core\\interactiveshell.py:324\u001b[0m, in \u001b[0;36m_modified_open\u001b[1;34m(file, *args, **kwargs)\u001b[0m\n\u001b[0;32m    317\u001b[0m \u001b[38;5;28;01mif\u001b[39;00m file \u001b[38;5;129;01min\u001b[39;00m {\u001b[38;5;241m0\u001b[39m, \u001b[38;5;241m1\u001b[39m, \u001b[38;5;241m2\u001b[39m}:\n\u001b[0;32m    318\u001b[0m     \u001b[38;5;28;01mraise\u001b[39;00m \u001b[38;5;167;01mValueError\u001b[39;00m(\n\u001b[0;32m    319\u001b[0m         \u001b[38;5;124mf\u001b[39m\u001b[38;5;124m\"\u001b[39m\u001b[38;5;124mIPython won\u001b[39m\u001b[38;5;124m'\u001b[39m\u001b[38;5;124mt let you open fd=\u001b[39m\u001b[38;5;132;01m{\u001b[39;00mfile\u001b[38;5;132;01m}\u001b[39;00m\u001b[38;5;124m by default \u001b[39m\u001b[38;5;124m\"\u001b[39m\n\u001b[0;32m    320\u001b[0m         \u001b[38;5;124m\"\u001b[39m\u001b[38;5;124mas it is likely to crash IPython. If you know what you are doing, \u001b[39m\u001b[38;5;124m\"\u001b[39m\n\u001b[0;32m    321\u001b[0m         \u001b[38;5;124m\"\u001b[39m\u001b[38;5;124myou can use builtins\u001b[39m\u001b[38;5;124m'\u001b[39m\u001b[38;5;124m open.\u001b[39m\u001b[38;5;124m\"\u001b[39m\n\u001b[0;32m    322\u001b[0m     )\n\u001b[1;32m--> 324\u001b[0m \u001b[38;5;28;01mreturn\u001b[39;00m io_open(file, \u001b[38;5;241m*\u001b[39margs, \u001b[38;5;241m*\u001b[39m\u001b[38;5;241m*\u001b[39mkwargs)\n",
      "\u001b[1;31mFileNotFoundError\u001b[0m: [Errno 2] No such file or directory: 'file.txt'"
     ]
    }
   ],
   "source": [
    "fileName=input(\"Enter File Name: \")\n",
    "fp=open(fileName)\t\n",
    "fp.close()\n",
    "print (\"Done\")"
   ]
  },
  {
   "cell_type": "markdown",
   "id": "4f9af8f2-be00-454d-9681-7c465f35573a",
   "metadata": {},
   "source": [
    "\n",
    "10.5 Exception handaling for file not found"
   ]
  },
  {
   "cell_type": "code",
   "execution_count": 40,
   "id": "ad1df192-613e-497e-8dce-cdcc7a62e068",
   "metadata": {},
   "outputs": [
    {
     "name": "stdin",
     "output_type": "stream",
     "text": [
      "Enter File Name:  file.txt\n"
     ]
    },
    {
     "name": "stdout",
     "output_type": "stream",
     "text": [
      "Error !! \"file.txt\" File Not Found\n",
      "Done\n"
     ]
    }
   ],
   "source": [
    "fileName=input(\"Enter File Name: \")\n",
    "try:\n",
    "\tfp=open(fileName)\t\n",
    "\tfp.close()\n",
    "except:\n",
    "\tprint (\"Error !! \\\"%s\\\" File Not Found\"%(fileName))\n",
    "\n",
    "print (\"Done\")"
   ]
  },
  {
   "cell_type": "markdown",
   "id": "3b8ba599-8c2a-4e74-bdd1-bb3ece62b433",
   "metadata": {},
   "source": [
    "11 Data Structure 1 - List"
   ]
  },
  {
   "cell_type": "markdown",
   "id": "5ba9644c-a3e0-48de-828b-45943660c9fc",
   "metadata": {},
   "source": [
    "11.1 List Declaration"
   ]
  },
  {
   "cell_type": "code",
   "execution_count": 44,
   "id": "81f6d3fb-bfb4-478d-be60-cc02e67564bb",
   "metadata": {},
   "outputs": [
    {
     "name": "stdout",
     "output_type": "stream",
     "text": [
      "Original List:  ['Aniket', 'Gupta', 9.99, 10]\n",
      "Number of elements in list:  4\n"
     ]
    }
   ],
   "source": [
    "L = [\"Aniket\",  'Gupta', 9.99,  10 ]\n",
    "print (\"Original List: \", L)\n",
    "print (\"Number of elements in list: \", len(L))"
   ]
  },
  {
   "cell_type": "markdown",
   "id": "0496a886-1f10-4e8a-bf0c-62aeb0412481",
   "metadata": {},
   "source": [
    "11.2 List Iteration"
   ]
  },
  {
   "cell_type": "code",
   "execution_count": 47,
   "id": "2fd9399b-d106-4759-b537-5b90729806e6",
   "metadata": {},
   "outputs": [
    {
     "name": "stdout",
     "output_type": "stream",
     "text": [
      "Original List:  ['Aniket', 'Gupta', 9.99, 10]\n",
      "Aniket\n",
      "Gupta\n",
      "9.99\n",
      "10\n"
     ]
    }
   ],
   "source": [
    "L = [\"Aniket\",  'Gupta', 9.99,  10 ]\n",
    "print (\"Original List: \", L)\n",
    "i=0\n",
    "while i < len(L):\n",
    "\tprint (L[i])\n",
    "\ti+=1"
   ]
  },
  {
   "cell_type": "markdown",
   "id": "7efe8272-2e77-4a4f-aec4-7d233985d64e",
   "metadata": {},
   "source": [
    "11.3 List Iteration using for loop"
   ]
  },
  {
   "cell_type": "code",
   "execution_count": 52,
   "id": "25ea9bc7-680f-4924-9c1f-e317ef5f6bb1",
   "metadata": {},
   "outputs": [
    {
     "name": "stdout",
     "output_type": "stream",
     "text": [
      "Original List:  ['Aniket', 'Gupta', 9.99, 10]\n",
      "Aniket\n",
      "Gupta\n",
      "9.99\n",
      "10\n"
     ]
    }
   ],
   "source": [
    "L = [\"Aniket\",  'Gupta', 9.99,  10 ]\n",
    "print (\"Original List: \", L)\n",
    "for i in range(0,len(L)):\n",
    "    print(L[i])"
   ]
  },
  {
   "cell_type": "markdown",
   "id": "23234106-844c-4c7e-8594-272dc3147b41",
   "metadata": {},
   "source": [
    "11.4 List Iteration using for loop"
   ]
  },
  {
   "cell_type": "code",
   "execution_count": 55,
   "id": "5a896dbf-e120-4af9-8ac4-5b62d1db1feb",
   "metadata": {},
   "outputs": [
    {
     "name": "stdout",
     "output_type": "stream",
     "text": [
      "Original List:  ['Aniket', 'Gupta', 9.99, 10]\n",
      "Aniket\n",
      "Gupta\n",
      "9.99\n",
      "10\n"
     ]
    }
   ],
   "source": [
    "L = [\"Aniket\",  'Gupta', 9.99,  10 ]\n",
    "print (\"Original List: \", L)\n",
    "for r in L:\n",
    "\tprint (r)"
   ]
  },
  {
   "cell_type": "markdown",
   "id": "6248f499-6e8c-4bbc-bdc8-25cb51e7fa37",
   "metadata": {},
   "source": [
    "11.5 Adding and deleting from list"
   ]
  },
  {
   "cell_type": "code",
   "execution_count": 58,
   "id": "74728011-7658-4f01-831a-a8d8273d1e38",
   "metadata": {},
   "outputs": [
    {
     "name": "stdout",
     "output_type": "stream",
     "text": [
      "Original List       -->  ['Aniket', 'Gupta', 9.99, 10]\n",
      "List After Adding   -->  ['Aniket', 'Gupta', 9.99, 10, 'Ajay']\n",
      "List After Deleting -->  ['Aniket', 9.99, 10, 'Ajay']\n"
     ]
    }
   ],
   "source": [
    "L = [\"Aniket\",  'Gupta', 9.99,  10 ]\n",
    "print (\"Original List       --> \", L)\n",
    "\n",
    "L.append(\"Ajay\")\n",
    "print (\"List After Adding   --> \", L)\n",
    "\n",
    "del L[1]\n",
    "print (\"List After Deleting --> \", L)"
   ]
  },
  {
   "cell_type": "markdown",
   "id": "8d310cf8-abcc-42ef-8b0e-b93836aad372",
   "metadata": {},
   "source": [
    "11.6 Sum/Average of List"
   ]
  },
  {
   "cell_type": "code",
   "execution_count": 63,
   "id": "0e3e1016-acf0-4202-859c-4d0eafb9f6db",
   "metadata": {},
   "outputs": [
    {
     "name": "stdout",
     "output_type": "stream",
     "text": [
      "Original List -->  [3, 6, 9, 12, 5, 3, 2]\n",
      "Sum     -->  40\n",
      "Average -->  5.714285714285714\n",
      "Average -->  5\n",
      "L * 3   -->  [3, 6, 9, 12, 5, 3, 2, 3, 6, 9, 12, 5, 3, 2, 3, 6, 9, 12, 5, 3, 2]\n",
      "L + L   -->  [3, 6, 9, 12, 5, 3, 2, 3, 6, 9, 12, 5, 3, 2]\n"
     ]
    }
   ],
   "source": [
    "L=[3, 6, 9, 12, 5, 3, 2]\n",
    "print (\"Original List --> \", L)\n",
    "\n",
    "print (\"Sum     --> \", sum(L))\n",
    "print (\"Average --> \", sum(L)/len(L))\n",
    "print (\"Average --> \", sum(L)//len(L))\n",
    "\n",
    "print (\"L * 3   --> \", L * 3) \n",
    "print (\"L + L   --> \", L + L)"
   ]
  },
  {
   "cell_type": "markdown",
   "id": "4d765a4e-bff8-482e-9b65-0786a529e9cb",
   "metadata": {},
   "source": [
    "11.7 Min/Max/Sort the list"
   ]
  },
  {
   "cell_type": "code",
   "execution_count": 67,
   "id": "2551ff2f-50ec-4e0c-a988-f099a5b8b0f9",
   "metadata": {},
   "outputs": [
    {
     "name": "stdout",
     "output_type": "stream",
     "text": [
      "Original List -->  [3, 6, 9, 12, 5, 3, 2]\n",
      "max->  12\n",
      "min->  2\n",
      "\n",
      "Before Sort            -->  [3, 6, 9, 12, 5, 3, 2]\n",
      "After Sort (Asending)  -->  [2, 3, 3, 5, 6, 9, 12]\n",
      "After Sort (Desending) -->  [12, 9, 6, 5, 3, 3, 2]\n"
     ]
    }
   ],
   "source": [
    "L=[3, 6, 9, 12, 5, 3, 2]\n",
    "print (\"Original List --> \", L)\n",
    "\n",
    "print (\"max-> \", max(L))\n",
    "print (\"min-> \", min(L))\n",
    "\n",
    "print (\"\\nBefore Sort            --> \", L)\n",
    "L.sort()\n",
    "\n",
    "print (\"After Sort (Asending)  --> \", L)\n",
    "\n",
    "L.sort(reverse=True)\n",
    "print (\"After Sort (Desending) --> \", L)"
   ]
  },
  {
   "cell_type": "markdown",
   "id": "d0ab1de0-a70c-4089-8f53-9e3d3c5b01f1",
   "metadata": {},
   "source": [
    "11.8 Merge lists and select elements"
   ]
  },
  {
   "cell_type": "code",
   "execution_count": 70,
   "id": "1b7f1b19-be4b-42df-a219-8c4cf8f2dede",
   "metadata": {},
   "outputs": [
    {
     "name": "stdout",
     "output_type": "stream",
     "text": [
      "L1 -->  [3, 6, 9]\n",
      "L2 -->  [12, 5, 3, 2]\n",
      "L3 -->  [3, 6, 9, 12, 5, 3, 2]\n",
      "\n",
      "L3[2:]  -->  [9, 12, 5, 3, 2]\n",
      "L3[2:5] -->  [9, 12, 5]\n",
      "L3[:-1] -->  [3, 6, 9, 12, 5, 3]\n",
      "L3[::2] -->  [3, 9, 5, 2]\n"
     ]
    }
   ],
   "source": [
    "L1 = [3, 6, 9]\n",
    "L2 = [12, 5, 3, 2]\n",
    "L3 = L1 + L2\n",
    "print (\"L1 --> \",L1)\n",
    "print (\"L2 --> \",L2)\n",
    "print (\"L3 --> \",L3)\n",
    "\n",
    "print (\"\\nL3[2:]  --> \",L3[2:])\n",
    "print (\"L3[2:5] --> \",L3[2:5])\n",
    "print (\"L3[:-1] --> \",L3[:-1])\n",
    "print (\"L3[::2] --> \",L3[::2])"
   ]
  },
  {
   "cell_type": "markdown",
   "id": "471d0243-e695-428e-85b0-7f16bc29443d",
   "metadata": {},
   "source": [
    "11.9 Multiply all elements of the list by a constant\n"
   ]
  },
  {
   "cell_type": "code",
   "execution_count": 73,
   "id": "42584c9e-9267-421a-a35d-8dc378ad4149",
   "metadata": {},
   "outputs": [
    {
     "name": "stdout",
     "output_type": "stream",
     "text": [
      "Original List -->  [12, 5, 3, 2, 7]\n",
      "After Multiply with constant -->  [60, 25, 15, 10, 35]\n",
      "[12, 5, 3, 2, 7, 12, 5, 3, 2, 7, 12, 5, 3, 2, 7, 12, 5, 3, 2, 7, 12, 5, 3, 2, 7]\n"
     ]
    }
   ],
   "source": [
    "L = [12, 5, 3, 2, 7]\n",
    "print (\"Original List --> \", L)\n",
    "\n",
    "newL = [ i * 5 for i in L ]\n",
    "print (\"After Multiply with constant --> \", newL)\n",
    "\n",
    "#To print elements of L 5 times\n",
    "print(L*5)"
   ]
  },
  {
   "cell_type": "markdown",
   "id": "901c7c07-fdfe-4081-ac3e-d2c8f1094350",
   "metadata": {},
   "source": [
    "11.10 Searching in the list"
   ]
  },
  {
   "cell_type": "code",
   "execution_count": 92,
   "id": "f93b73a9-f0d9-4ba0-a7e5-2362ad1f26d1",
   "metadata": {},
   "outputs": [
    {
     "name": "stdout",
     "output_type": "stream",
     "text": [
      "Original List -->  True\n",
      "Original List -->  False\n",
      "Original List -->  True\n",
      "Present\n",
      "Not Present\n"
     ]
    }
   ],
   "source": [
    "L=[3, 6, 9, 12, 5, 3, 2]\n",
    "print (\"Original List --> \", 6 in L)\n",
    "print (\"Original List --> \", 10 in L)\n",
    "print (\"Original List --> \", 12 in L)\n",
    "\n",
    "if (6 in L) == True:\n",
    "\tprint (\"Present\")\n",
    "else:\n",
    "\tprint (\"Not Present\")\n",
    "\n",
    "if (10 in L) == False:\n",
    "\tprint (\"Not Present\")\n",
    "else:\n",
    "\tprint (\"Present\")"
   ]
  },
  {
   "cell_type": "markdown",
   "id": "fb1156d1-a37f-460b-97aa-d378f0622c4f",
   "metadata": {},
   "source": [
    "12 Data Structure 2 - Dictionary"
   ]
  },
  {
   "cell_type": "markdown",
   "id": "01b3dbb5-6d07-4f5d-91fb-addbc1f5ef63",
   "metadata": {},
   "source": [
    "12.1 Declare Dictionary"
   ]
  },
  {
   "cell_type": "code",
   "execution_count": 96,
   "id": "c3745bd8-56cd-42d0-9b6a-b2e97cbb0646",
   "metadata": {},
   "outputs": [
    {
     "name": "stdout",
     "output_type": "stream",
     "text": [
      "Dictionary      -->  {1: 8.9, 2: 5.6, 4: 6.7, 7: 9.1, 8: 5.3}\n",
      "Num of elements -->  5\n",
      "CGPA of 1       -->  8.9\n",
      "CGPA of 4       -->  6.7\n",
      "CGPA of 7       -->  9.1\n",
      "CGPA of 8       -->  5.3\n"
     ]
    }
   ],
   "source": [
    "CGPA={1:8.9, 2:5.6, 4:6.7, 7:9.1, 8:5.3}\n",
    "print (\"Dictionary      --> \", CGPA)\n",
    "print (\"Num of elements --> \", len(CGPA))\n",
    "\n",
    "print (\"CGPA of 1       --> \", CGPA[1])\n",
    "print (\"CGPA of 4       --> \", CGPA[4])\n",
    "print (\"CGPA of 7       --> \", CGPA[7])\n",
    "print (\"CGPA of 8       --> \", CGPA[8])"
   ]
  },
  {
   "cell_type": "markdown",
   "id": "f48b6912-4d76-4d16-b9de-dbdebd3d9155",
   "metadata": {},
   "source": [
    "12.2 Triverse dictionary"
   ]
  },
  {
   "cell_type": "code",
   "execution_count": 99,
   "id": "febcee94-ff91-400f-ac0a-19aa12559046",
   "metadata": {},
   "outputs": [
    {
     "name": "stdout",
     "output_type": "stream",
     "text": [
      "CGPA of  1  -->  8.9\n",
      "CGPA of  2  -->  5.6\n",
      "CGPA of  4  -->  6.7\n",
      "CGPA of  7  -->  9.1\n",
      "CGPA of  8  -->  5.3\n"
     ]
    }
   ],
   "source": [
    "CGPA={1:8.9, 2:5.6, 4:6.7, 7:9.1, 8:5.3}\n",
    "for k in CGPA:\n",
    "\tprint (\"CGPA of \", k, \" --> \", CGPA[k])"
   ]
  },
  {
   "cell_type": "markdown",
   "id": "ff504d5e-ff47-43f8-9423-722eb8e0f38c",
   "metadata": {},
   "source": [
    "12.3 Getting Keys and Values"
   ]
  },
  {
   "cell_type": "code",
   "execution_count": 102,
   "id": "3d56ea2d-b6b7-4824-b455-0bb4f1ef0a4a",
   "metadata": {},
   "outputs": [
    {
     "name": "stdout",
     "output_type": "stream",
     "text": [
      "Dictionary -->  {1: 8.9, 2: 5.6, 4: 6.7, 7: 9.1, 8: 5.3}\n",
      "Keys       -->  [1, 2, 4, 7, 8]\n",
      "Values     -->  [8.9, 5.6, 6.7, 9.1, 5.3]\n"
     ]
    }
   ],
   "source": [
    "CGPA={1:8.9, 2:5.6, 4:6.7, 7:9.1, 8:5.3}\n",
    "print (\"Dictionary --> \", CGPA)\n",
    "print (\"Keys       --> \", list(CGPA.keys()))\n",
    "print (\"Values     --> \", list(CGPA.values()))"
   ]
  },
  {
   "cell_type": "markdown",
   "id": "30a7712b-795b-451b-90d2-931a28075a6c",
   "metadata": {},
   "source": [
    "12.4 Updating, Adding and Deleting from Dictionary"
   ]
  },
  {
   "cell_type": "code",
   "execution_count": 107,
   "id": "c936872d-54ef-4160-850f-d493bc8cd8fe",
   "metadata": {},
   "outputs": [
    {
     "name": "stdout",
     "output_type": "stream",
     "text": [
      "Original Dictionary -->  {1: 8.9, 2: 5.6, 4: 6.7, 7: 9.1, 8: 5.3}\n",
      "After Updating (4)  -->  {1: 8.9, 2: 5.6, 4: 9.2, 7: 9.1, 8: 5.3}\n",
      "After Adding (3)    -->  {1: 8.9, 2: 5.6, 4: 9.2, 7: 9.1, 8: 5.3, 3: 8.6}\n",
      "After Deleting (1)  -->  {2: 5.6, 4: 9.2, 7: 9.1, 8: 5.3, 3: 8.6}\n",
      "After Clear         -->  {}\n"
     ]
    },
    {
     "ename": "NameError",
     "evalue": "name 'CGPA' is not defined",
     "output_type": "error",
     "traceback": [
      "\u001b[1;31m---------------------------------------------------------------------------\u001b[0m",
      "\u001b[1;31mNameError\u001b[0m                                 Traceback (most recent call last)",
      "Cell \u001b[1;32mIn[107], line 17\u001b[0m\n\u001b[0;32m     14\u001b[0m \u001b[38;5;28mprint\u001b[39m (\u001b[38;5;124m\"\u001b[39m\u001b[38;5;124mAfter Clear         --> \u001b[39m\u001b[38;5;124m\"\u001b[39m, CGPA)\n\u001b[0;32m     16\u001b[0m \u001b[38;5;28;01mdel\u001b[39;00m CGPA\n\u001b[1;32m---> 17\u001b[0m \u001b[38;5;28mprint\u001b[39m (\u001b[38;5;124m\"\u001b[39m\u001b[38;5;124mAfter Delete        --> \u001b[39m\u001b[38;5;124m\"\u001b[39m, CGPA)\n",
      "\u001b[1;31mNameError\u001b[0m: name 'CGPA' is not defined"
     ]
    }
   ],
   "source": [
    "CGPA={1:8.9,2:5.6,4:6.7,7:9.1,8:5.3}\n",
    "print (\"Original Dictionary --> \", CGPA)\n",
    "\n",
    "CGPA[4] = 9.2\n",
    "print (\"After Updating (4)  --> \", CGPA)\n",
    "\n",
    "CGPA[3] = 8.6\n",
    "print (\"After Adding (3)    --> \", CGPA)\n",
    "\n",
    "del CGPA[1]\n",
    "print (\"After Deleting (1)  --> \", CGPA)\n",
    "\n",
    "CGPA.clear()\n",
    "print (\"After Clear         --> \", CGPA)\n",
    "\n",
    "del CGPA   #(del CGPA) deletes the dictionary entirely, removing it from memory.\n",
    "print (\"After Delete        --> \", CGPA)"
   ]
  },
  {
   "cell_type": "markdown",
   "id": "c7b9696f-fa40-4a0f-b87e-8098b41cdf93",
   "metadata": {},
   "source": [
    "12.5 Checking for Key in Dictionary"
   ]
  },
  {
   "cell_type": "code",
   "execution_count": 110,
   "id": "a7c81a1c-cebd-4ebd-bebb-7927653808a7",
   "metadata": {},
   "outputs": [
    {
     "name": "stdout",
     "output_type": "stream",
     "text": [
      "Original Dictionary -->  {1: 8.9, 2: 5.6, 4: 6.7, 7: 9.1, 8: 5.3}\n",
      "Is Key 2 Present    -->  True\n",
      "Is Key 9 Present    -->  False\n"
     ]
    }
   ],
   "source": [
    "CGPA={1:8.9, 2:5.6, 4:6.7, 7:9.1, 8:5.3}\n",
    "print (\"Original Dictionary --> \", CGPA)\n",
    "print (\"Is Key 2 Present    --> \", 2 in CGPA)\n",
    "print (\"Is Key 9 Present    --> \", 9 in CGPA)"
   ]
  },
  {
   "cell_type": "markdown",
   "id": "d9247b04-4e78-4135-9c4b-36740698a44b",
   "metadata": {},
   "source": [
    "12.6 More example1"
   ]
  },
  {
   "cell_type": "code",
   "execution_count": 113,
   "id": "d9cac445-37b1-4eef-ba17-ff6af8fe1fbc",
   "metadata": {},
   "outputs": [
    {
     "name": "stdout",
     "output_type": "stream",
     "text": [
      "Original Dictionary -->  {'Prashant': 'Delhi', 'Govind': 'Gwalior', 'Anil': 'Morena', 'Pankaj': 'Agra'}\n",
      "Home Town of Prashant is -->  Delhi\n",
      "Home Town of Govind is   -->  Gwalior\n",
      "Home Town of Anil is     -->  Morena\n",
      "Home Town of Pankaj is   -->  Agra\n"
     ]
    }
   ],
   "source": [
    "HomeTown={\"Prashant\":\"Delhi\", \"Govind\":\"Gwalior\", \"Anil\":\"Morena\", \"Pankaj\":\"Agra\"}\n",
    "print (\"Original Dictionary --> \", HomeTown)\n",
    "print (\"Home Town of Prashant is --> \", HomeTown[\"Prashant\"])\n",
    "print (\"Home Town of Govind is   --> \", HomeTown[\"Govind\"])\n",
    "print (\"Home Town of Anil is     --> \", HomeTown[\"Anil\"])\n",
    "print (\"Home Town of Pankaj is   --> \", HomeTown[\"Pankaj\"])"
   ]
  },
  {
   "cell_type": "markdown",
   "id": "5a7b03ec-1146-4b7f-bec0-2a15d7d9eec6",
   "metadata": {},
   "source": [
    "12.7 More example2"
   ]
  },
  {
   "cell_type": "code",
   "execution_count": 116,
   "id": "099dbea4-3ca3-4ac5-8d9c-b4fc4323599d",
   "metadata": {},
   "outputs": [
    {
     "name": "stdout",
     "output_type": "stream",
     "text": [
      "Original Dictionary -->  {'Prashant': 'Delhi', 'Govind': 'Gwalior', 'Anil': 'Morena', 'Pankaj': 'Agra'}\n",
      "Home Town of  Prashant  is  -->  Delhi\n",
      "Home Town of  Govind  is  -->  Gwalior\n",
      "Home Town of  Anil  is  -->  Morena\n",
      "Home Town of  Pankaj  is  -->  Agra\n"
     ]
    }
   ],
   "source": [
    "HomeTown={\"Prashant\":\"Delhi\", \"Govind\":\"Gwalior\", \"Anil\":\"Morena\", \"Pankaj\":\"Agra\"}\n",
    "print (\"Original Dictionary --> \", HomeTown)\n",
    "\n",
    "for d in HomeTown:\n",
    "\tprint (\"Home Town of \", d, \" is  --> \", HomeTown[d])"
   ]
  },
  {
   "cell_type": "markdown",
   "id": "508872a6-9939-4ecb-a646-280305c77d00",
   "metadata": {},
   "source": [
    "13 Data Structure 3 - Tuple"
   ]
  },
  {
   "cell_type": "markdown",
   "id": "50cd32c0-ee68-426f-9ff9-f64992305ca8",
   "metadata": {},
   "source": [
    "13.1 Declare Tuple"
   ]
  },
  {
   "cell_type": "code",
   "execution_count": 1,
   "id": "a8339fa1-0d6b-439b-9def-9b4da8601490",
   "metadata": {},
   "outputs": [
    {
     "name": "stdout",
     "output_type": "stream",
     "text": [
      "T               --> ('Aniket', 'Gupta', 9.91, 6)\n",
      "Num of elements --> 4\n",
      "Type of Object  --> <class 'tuple'>\n"
     ]
    }
   ],
   "source": [
    "# Method 1\n",
    "T = (\"Aniket\", 'Gupta', 9.91, 6)\n",
    "\n",
    "print (\"T               -->\", T)\n",
    "print (\"Num of elements -->\", len(T))\n",
    "print (\"Type of Object  -->\", type(T))"
   ]
  },
  {
   "cell_type": "code",
   "execution_count": 10,
   "id": "1901a7db-523d-42b9-9730-1428832026f6",
   "metadata": {},
   "outputs": [
    {
     "name": "stdout",
     "output_type": "stream",
     "text": [
      "T               --> ('Aniket', 'Gupta', 9, 0.91, 6)\n",
      "Num of elements --> 5\n",
      "Type of Object  --> <class 'tuple'>\n",
      "T               --> ('Ajay', 'Sharma', 3.78, 9)\n",
      "Num of elements --> 4\n",
      "Type of Object  --> <class 'tuple'>\n"
     ]
    }
   ],
   "source": [
    "# Method 2\n",
    "T = tuple([\"Aniket\", 'Gupta', 9,.91, 6])   \n",
    "G = tuple((\"Ajay\", 'Sharma', 3.78, 9))  \n",
    "\n",
    "print (\"T               -->\", T)\n",
    "print (\"Num of elements -->\", len(T))\n",
    "print (\"Type of Object  -->\", type(T))\n",
    "\n",
    "print (\"T               -->\", G)\n",
    "print (\"Num of elements -->\", len(G))\n",
    "print (\"Type of Object  -->\", type(G))"
   ]
  },
  {
   "cell_type": "markdown",
   "id": "1f8f2949-3ecb-40a9-b2af-c9b3efbbc6e4",
   "metadata": {},
   "source": [
    "13.2 Tuple Iteration"
   ]
  },
  {
   "cell_type": "code",
   "execution_count": 8,
   "id": "3d05216b-59f9-49ef-922d-d867f3eb54ea",
   "metadata": {},
   "outputs": [
    {
     "name": "stdout",
     "output_type": "stream",
     "text": [
      "T --> ('Aniket', 'Gupta', 9, 0.91, 6)\n",
      "Aniket\n",
      "Gupta\n",
      "9\n",
      "0.91\n",
      "6\n"
     ]
    }
   ],
   "source": [
    "T = tuple([\"Aniket\", 'Gupta', 9,.91, 6])   \n",
    "print (\"T -->\", T)\n",
    "\n",
    "i = 0\n",
    "while i < len(T):\n",
    "    print (T[i])\n",
    "    i += 1"
   ]
  },
  {
   "cell_type": "markdown",
   "id": "454758be-734b-4652-8b5a-e87b8e6933ff",
   "metadata": {},
   "source": [
    "13.3 Tuple iteration using for loop"
   ]
  },
  {
   "cell_type": "code",
   "execution_count": 13,
   "id": "c332b50c-02f7-4573-ac70-522f5f0547e0",
   "metadata": {},
   "outputs": [
    {
     "name": "stdout",
     "output_type": "stream",
     "text": [
      "T --> ('Aniket', 'Gupta', 9.91, 6)\n",
      "Aniket\n",
      "Gupta\n",
      "9.91\n",
      "6\n"
     ]
    }
   ],
   "source": [
    "T = (\"Aniket\", 'Gupta', 9.91, 6)\n",
    "print (\"T -->\", T)\n",
    "\n",
    "for i in range(0, len(T)):\n",
    "    print (T[i])"
   ]
  },
  {
   "cell_type": "markdown",
   "id": "aca88f15-97ca-453e-ae36-39cb8dd7aa65",
   "metadata": {},
   "source": [
    "13.4 Tuple iteration using for loop"
   ]
  },
  {
   "cell_type": "code",
   "execution_count": 16,
   "id": "4e13c1d6-17d0-4939-a3c7-3d0aadae43f9",
   "metadata": {},
   "outputs": [
    {
     "name": "stdout",
     "output_type": "stream",
     "text": [
      "T --> ('Aniket', 'Gupta', 9.91, 6)\n",
      "Aniket\n",
      "Gupta\n",
      "9.91\n",
      "6\n"
     ]
    }
   ],
   "source": [
    "T = (\"Aniket\", 'Gupta', 9.91, 6)\n",
    "print (\"T -->\", T)\n",
    "\n",
    "for s in T:\n",
    "    print (s)"
   ]
  },
  {
   "cell_type": "markdown",
   "id": "5f9ab061-4e69-4940-a7d6-3d188cd3c210",
   "metadata": {},
   "source": [
    "13.5 Accessing/Selecting in Tuple"
   ]
  },
  {
   "cell_type": "code",
   "execution_count": 23,
   "id": "2ae1f7ac-309c-45a7-9ace-64b83015d737",
   "metadata": {},
   "outputs": [
    {
     "name": "stdout",
     "output_type": "stream",
     "text": [
      "T     --> (13, 65, 76, 82, 95, 30, 23)\n",
      "T[1]  --> 65\n",
      "T[2]  --> 76\n",
      "T[-1] --> 23\n",
      "T[-2] --> 30\n"
     ]
    }
   ],
   "source": [
    "# Example 1:\n",
    "T = (13, 65, 76, 82, 95, 30, 23)\n",
    "print (\"T     -->\", T)\n",
    "\n",
    "print (\"T[1]  -->\", T[1])\n",
    "print (\"T[2]  -->\", T[2])\n",
    "print (\"T[-1] -->\", T[-1])\n",
    "print (\"T[-2] -->\", T[-2])"
   ]
  },
  {
   "cell_type": "code",
   "execution_count": 21,
   "id": "8f43b627-fe03-478c-904d-4213517583e0",
   "metadata": {},
   "outputs": [
    {
     "name": "stdout",
     "output_type": "stream",
     "text": [
      "T        --> (30, 56, 91, 12, 35, 43, 62)\n",
      "T[1:3]   --> (56, 91)\n",
      "T[2:]    --> (91, 12, 35, 43, 62)\n",
      "T[2:5]   --> (91, 12, 35)\n",
      "T[:2]    --> (30, 56)\n",
      "T[:-1]   --> (30, 56, 91, 12, 35, 43)\n",
      "T[-4:-1] --> (12, 35, 43)\n"
     ]
    }
   ],
   "source": [
    "# Example 2:\n",
    "T = (30, 56, 91, 12, 35, 43, 62)\n",
    "print (\"T        -->\", T)\n",
    "\n",
    "print (\"T[1:3]   -->\", T[1:3])\n",
    "print (\"T[2:]    -->\", T[2:])\n",
    "print (\"T[2:5]   -->\", T[2:5])\n",
    "print (\"T[:2]    -->\", T[:2])\n",
    "print (\"T[:-1]   -->\", T[:-1])\n",
    "print (\"T[-4:-1] -->\", T[-4:-1])"
   ]
  },
  {
   "cell_type": "markdown",
   "id": "adbfa694-d74c-404c-b9bb-b9335baf2c6f",
   "metadata": {},
   "source": [
    "13.6 Sum/Average of Tuple"
   ]
  },
  {
   "cell_type": "code",
   "execution_count": 26,
   "id": "e084cee8-61df-4a93-a36c-045d90da3714",
   "metadata": {},
   "outputs": [
    {
     "name": "stdout",
     "output_type": "stream",
     "text": [
      "T       --> (3, 6, 9, 12, 5, 3, 2)\n",
      "Sum     --> 40\n",
      "Average --> 5.714285714285714\n",
      "Average --> 5\n"
     ]
    }
   ],
   "source": [
    "T = (3, 6, 9, 12, 5, 3, 2)\n",
    "print (\"T       -->\", T)\n",
    "print (\"Sum     -->\", sum(T))\n",
    "print (\"Average -->\", sum(T)/len(T))\n",
    "print (\"Average -->\", sum(T)//len(T))"
   ]
  },
  {
   "cell_type": "markdown",
   "id": "a464c2b6-d168-4874-901a-4b355dda1647",
   "metadata": {},
   "source": [
    "\n",
    "13.7 Min/Max in Tuple"
   ]
  },
  {
   "cell_type": "code",
   "execution_count": 29,
   "id": "9a445fcf-c24e-4b35-b069-805e4fa23546",
   "metadata": {},
   "outputs": [
    {
     "name": "stdout",
     "output_type": "stream",
     "text": [
      "T   --> (3, 6, 9, 12, 5, 3, 2)\n",
      "Max --> 12\n",
      "Min --> 2\n"
     ]
    }
   ],
   "source": [
    "# Example 1\n",
    "T = (3, 6, 9, 12, 5, 3, 2)               \n",
    "print (\"T   -->\", T)\n",
    "print (\"Max -->\", max(T))\n",
    "print (\"Min -->\", min(T))"
   ]
  },
  {
   "cell_type": "code",
   "execution_count": 31,
   "id": "900a44f5-38a5-4dbd-961a-70a76b0cfe2a",
   "metadata": {},
   "outputs": [
    {
     "name": "stdout",
     "output_type": "stream",
     "text": [
      "T   --> ('Ram', 'Shyam', 'Human', 'Ant')\n",
      "Max --> Shyam\n",
      "Min --> Ant\n"
     ]
    }
   ],
   "source": [
    "# Example 2\n",
    "T = (\"Ram\", \"Shyam\", \"Human\", \"Ant\")      \n",
    "print (\"T   -->\", T)\n",
    "print (\"Max -->\", max(T))\n",
    "print (\"Min -->\", min(T))"
   ]
  },
  {
   "cell_type": "markdown",
   "id": "0ee13cb8-cce9-4b82-a43e-246474c5cb96",
   "metadata": {},
   "source": [
    "13.8 Merging Tuples"
   ]
  },
  {
   "cell_type": "code",
   "execution_count": 36,
   "id": "584e7ba1-df8b-4267-80eb-4165ed7f77b4",
   "metadata": {},
   "outputs": [
    {
     "name": "stdout",
     "output_type": "stream",
     "text": [
      "T1 --> (45, 67, 49)\n",
      "T2 --> (12, 65, 30, 62)\n",
      "T3 --> (45, 67, 49, 12, 65, 30, 62)\n",
      "T4 --> (45, 67, 49, 12, 65, 30, 62, 45, 67, 49, 12, 65, 30, 62)\n"
     ]
    }
   ],
   "source": [
    "T1 = (45, 67, 49)\n",
    "T2 = (12, 65, 30, 62)\n",
    "\n",
    "print (\"T1 -->\", T1)\n",
    "print (\"T2 -->\", T2)\n",
    "\n",
    "T3 = T1 + T2\n",
    "print (\"T3 -->\", T3)\n",
    "\n",
    "T4 = T1 + T2 + T1 + T2\n",
    "print (\"T4 -->\", T4)"
   ]
  },
  {
   "cell_type": "markdown",
   "id": "dc55d2b2-00e1-482e-b18d-2d7f180460a0",
   "metadata": {},
   "source": [
    "13.9 Merging part of Tuples"
   ]
  },
  {
   "cell_type": "code",
   "execution_count": 39,
   "id": "410782a9-c578-49ed-b872-3106b6bde989",
   "metadata": {},
   "outputs": [
    {
     "name": "stdout",
     "output_type": "stream",
     "text": [
      "T1 --> (45, 67, 49)\n",
      "T2 --> (12, 65, 30, 62)\n",
      "T3 --> (67, 65, 30)\n",
      "T4 --> (45, 12)\n"
     ]
    }
   ],
   "source": [
    "T1 = (45, 67, 49)\n",
    "T2 = (12, 65, 30, 62)\n",
    "\n",
    "print (\"T1 -->\", T1)\n",
    "print (\"T2 -->\", T2)\n",
    "\n",
    "T3 = T1[1:2] + T2[1:3]\n",
    "print (\"T3 -->\", T3)\n",
    "\n",
    "T4 = T1[:-2] + T2[:-3]\n",
    "print (\"T4 -->\", T4)"
   ]
  },
  {
   "cell_type": "markdown",
   "id": "e1d04a05-8de5-4d59-a697-b53ebcfb1667",
   "metadata": {},
   "source": [
    "13.10 Searching in the tuple"
   ]
  },
  {
   "cell_type": "code",
   "execution_count": 42,
   "id": "65fda8dc-0260-4a68-bd73-1597f16ebbb5",
   "metadata": {},
   "outputs": [
    {
     "name": "stdout",
     "output_type": "stream",
     "text": [
      "T       --> (3, 6, 9, 12, 5, 3, 2)\n",
      "6  in T --> True\n",
      "10 in T --> False\n",
      "12 in T --> True\n"
     ]
    }
   ],
   "source": [
    "T = (3, 6, 9, 12, 5, 3, 2)\n",
    "print (\"T       -->\", T)\n",
    "\n",
    "print (\"6  in T -->\", 6 in T)\n",
    "print (\"10 in T -->\", 10 in T)\n",
    "print (\"12 in T -->\", 12 in T)"
   ]
  },
  {
   "cell_type": "markdown",
   "id": "0a7d8f08-834b-4148-afa6-6887ee45cca3",
   "metadata": {},
   "source": [
    "13.11 Adding element to Tuple (Error)"
   ]
  },
  {
   "cell_type": "code",
   "execution_count": 45,
   "id": "7e62b59d-4773-4a6e-a9d7-6b13a1b747d3",
   "metadata": {},
   "outputs": [
    {
     "name": "stdout",
     "output_type": "stream",
     "text": [
      "T --> ('Aniket', 'Gupta', 9.91, 6)\n"
     ]
    },
    {
     "ename": "TypeError",
     "evalue": "'tuple' object does not support item assignment",
     "output_type": "error",
     "traceback": [
      "\u001b[1;31m---------------------------------------------------------------------------\u001b[0m",
      "\u001b[1;31mTypeError\u001b[0m                                 Traceback (most recent call last)",
      "Cell \u001b[1;32mIn[45], line 4\u001b[0m\n\u001b[0;32m      1\u001b[0m T \u001b[38;5;241m=\u001b[39m (\u001b[38;5;124m\"\u001b[39m\u001b[38;5;124mAniket\u001b[39m\u001b[38;5;124m\"\u001b[39m, \u001b[38;5;124m'\u001b[39m\u001b[38;5;124mGupta\u001b[39m\u001b[38;5;124m'\u001b[39m, \u001b[38;5;241m9.91\u001b[39m, \u001b[38;5;241m6\u001b[39m)\n\u001b[0;32m      2\u001b[0m \u001b[38;5;28mprint\u001b[39m (\u001b[38;5;124m\"\u001b[39m\u001b[38;5;124mT -->\u001b[39m\u001b[38;5;124m\"\u001b[39m, T)\n\u001b[1;32m----> 4\u001b[0m T[\u001b[38;5;241m2\u001b[39m] \u001b[38;5;241m=\u001b[39m \u001b[38;5;241m900\u001b[39m\n\u001b[0;32m      5\u001b[0m \u001b[38;5;28mprint\u001b[39m (\u001b[38;5;124m\"\u001b[39m\u001b[38;5;124mT -->\u001b[39m\u001b[38;5;124m\"\u001b[39m, T)\n",
      "\u001b[1;31mTypeError\u001b[0m: 'tuple' object does not support item assignment"
     ]
    }
   ],
   "source": [
    "T = (\"Aniket\", 'Gupta', 9.91, 6)\n",
    "print (\"T -->\", T)\n",
    "\n",
    "T[2] = 900\n",
    "print (\"T -->\", T)"
   ]
  },
  {
   "cell_type": "markdown",
   "id": "509a662c-465c-4cf6-9564-988702b644f5",
   "metadata": {},
   "source": [
    "13.12 Adding element to Tuple "
   ]
  },
  {
   "cell_type": "code",
   "execution_count": 49,
   "id": "ac85be3e-c9af-42ae-a477-defc7e2235fa",
   "metadata": {},
   "outputs": [
    {
     "name": "stdout",
     "output_type": "stream",
     "text": [
      "T         --> ('Aniket', 'Gupta', 9.91, 6)\n",
      "After Add --> ('Aniket', 'Gupta', 9.91, 6, 9.8)\n"
     ]
    }
   ],
   "source": [
    "T = (\"Aniket\", 'Gupta', 9.91, 6)\n",
    "print (\"T         -->\", T)\n",
    "\n",
    "T1 = list(T)\n",
    "T1.append(9.8)\n",
    "T = tuple(T1)\n",
    "\n",
    "print (\"After Add -->\", T)"
   ]
  },
  {
   "cell_type": "markdown",
   "id": "cb049eb6-b1b5-4771-b625-6733ecb650bf",
   "metadata": {},
   "source": [
    "13.13 Inserting element in Tuple "
   ]
  },
  {
   "cell_type": "code",
   "execution_count": 55,
   "id": "517ffcd3-7886-48f5-a06b-4f175f0d93d0",
   "metadata": {},
   "outputs": [
    {
     "name": "stdout",
     "output_type": "stream",
     "text": [
      "T            --> ('Aniket', 'Gupta', 9.91, 6)\n",
      "After Insert --> ('Aniket', 'Gupta', 'Amit', 9.91, 6)\n"
     ]
    }
   ],
   "source": [
    "T = (\"Aniket\", 'Gupta', 9.91, 6)\n",
    "print (\"T            -->\", T)\n",
    "\n",
    "T1 = list(T)\n",
    "T1.insert(2, \"Amit\")\n",
    "T = tuple(T1)\n",
    "\n",
    "print (\"After Insert -->\", T)"
   ]
  },
  {
   "cell_type": "markdown",
   "id": "60aa8d92-c949-48ad-bf82-dd6f0abf248c",
   "metadata": {},
   "source": [
    "13.14 Deleting from Tuple (Error)"
   ]
  },
  {
   "cell_type": "code",
   "execution_count": 57,
   "id": "a8f681ce-382e-4bda-bfa0-8c5cc288dff0",
   "metadata": {},
   "outputs": [
    {
     "name": "stdout",
     "output_type": "stream",
     "text": [
      "T            --> ('Aniket', 'Gupta', 9.91, 6)\n"
     ]
    },
    {
     "ename": "TypeError",
     "evalue": "'tuple' object doesn't support item deletion",
     "output_type": "error",
     "traceback": [
      "\u001b[1;31m---------------------------------------------------------------------------\u001b[0m",
      "\u001b[1;31mTypeError\u001b[0m                                 Traceback (most recent call last)",
      "Cell \u001b[1;32mIn[57], line 4\u001b[0m\n\u001b[0;32m      1\u001b[0m T \u001b[38;5;241m=\u001b[39m (\u001b[38;5;124m\"\u001b[39m\u001b[38;5;124mAniket\u001b[39m\u001b[38;5;124m\"\u001b[39m, \u001b[38;5;124m'\u001b[39m\u001b[38;5;124mGupta\u001b[39m\u001b[38;5;124m'\u001b[39m, \u001b[38;5;241m9.91\u001b[39m, \u001b[38;5;241m6\u001b[39m)\n\u001b[0;32m      2\u001b[0m \u001b[38;5;28mprint\u001b[39m (\u001b[38;5;124m\"\u001b[39m\u001b[38;5;124mT            -->\u001b[39m\u001b[38;5;124m\"\u001b[39m, T)\n\u001b[1;32m----> 4\u001b[0m \u001b[38;5;28;01mdel\u001b[39;00m T[\u001b[38;5;241m1\u001b[39m]\n\u001b[0;32m      6\u001b[0m \u001b[38;5;28mprint\u001b[39m (\u001b[38;5;124m\"\u001b[39m\u001b[38;5;124mAfter Delete -->\u001b[39m\u001b[38;5;124m\"\u001b[39m, T)\n",
      "\u001b[1;31mTypeError\u001b[0m: 'tuple' object doesn't support item deletion"
     ]
    }
   ],
   "source": [
    "T = (\"Aniket\", 'Gupta', 9.91, 6)\n",
    "print (\"T            -->\", T)\n",
    "\n",
    "del T[1]\n",
    "\n",
    "print (\"After Delete -->\", T)"
   ]
  },
  {
   "cell_type": "markdown",
   "id": "e25d26c3-1fbf-462c-bdf9-1828b6867af0",
   "metadata": {},
   "source": [
    "13.15 Deleting from Tuple"
   ]
  },
  {
   "cell_type": "code",
   "execution_count": 61,
   "id": "32fc7705-edd6-4fcf-ad09-b2e3f376909f",
   "metadata": {},
   "outputs": [
    {
     "name": "stdout",
     "output_type": "stream",
     "text": [
      "T            --> ('Aniket', 'Gupta', 9.91, 6)\n",
      "After Delete --> ('Aniket', 9.91, 6)\n"
     ]
    }
   ],
   "source": [
    "T = (\"Aniket\", 'Gupta', 9.91, 6)\n",
    "print (\"T            -->\", T)\n",
    "\n",
    "T1 = list(T)\n",
    "del T1[1]\n",
    "T = tuple(T1)\n",
    "\n",
    "print (\"After Delete -->\", T)"
   ]
  },
  {
   "cell_type": "markdown",
   "id": "a559c091-5e3a-4cb4-bc81-e0983e5241df",
   "metadata": {},
   "source": [
    "14 Data Structure 4 - Set"
   ]
  },
  {
   "cell_type": "markdown",
   "id": "f7cc84ee-edde-4553-92dd-b87f62969f5a",
   "metadata": {},
   "source": [
    "14.1 Declare Set"
   ]
  },
  {
   "cell_type": "code",
   "execution_count": 65,
   "id": "637aec37-c0d5-4008-979e-dc41f7a01de2",
   "metadata": {},
   "outputs": [
    {
     "name": "stdout",
     "output_type": "stream",
     "text": [
      "Original set           -->  {'B', 'A', 'F', 'E'}\n",
      "Num of elements in set -->  4\n"
     ]
    }
   ],
   "source": [
    "s = set(['A', 'B', 'E', 'F','E', 'F' ])\n",
    "print (\"Original set           --> \", s)\n",
    "print (\"Num of elements in set --> \", len(s))"
   ]
  },
  {
   "cell_type": "markdown",
   "id": "ebb10e3c-f2f6-41eb-a90c-cf95dd551996",
   "metadata": {},
   "source": [
    "14.2 Opertions on Sets"
   ]
  },
  {
   "cell_type": "code",
   "execution_count": 68,
   "id": "e8db4a9e-6e3f-427e-acaf-3c6b9c1eaf0d",
   "metadata": {},
   "outputs": [
    {
     "name": "stdout",
     "output_type": "stream",
     "text": [
      "Original set a      -->  {'B', 'A', 'F', 'E'}\n",
      "Original set b      -->  {'A', 'C', 'D', 'E'}\n",
      "Union of a and b    -->  {'A', 'D', 'C', 'B', 'F', 'E'}\n",
      "Intersection of a,b -->  {'A', 'E'}\n",
      "Difference a - b    -->  {'B', 'F'}\n",
      "Difference a - b    -->  {'B', 'F'}\n",
      "Difference b - a    -->  {'C', 'D'}\n",
      "Difference b - a    -->  {'C', 'D'}\n",
      "Symetric Diff a - b -->  {'D', 'C', 'B', 'F'}\n",
      "Symetric Diff b - a -->  {'D', 'C', 'B', 'F'}\n"
     ]
    }
   ],
   "source": [
    "a = set(['A', 'B', 'E', 'F' ])\n",
    "b = set([\"A\", \"C\", \"D\", \"E\"])\n",
    "print (\"Original set a      --> \", a)\n",
    "print (\"Original set b      --> \", b)\n",
    "print (\"Union of a and b    --> \", a.union(b))\n",
    "print (\"Intersection of a,b --> \", a.intersection(b))\n",
    "print (\"Difference a - b    --> \", a - b)\n",
    "print (\"Difference a - b    --> \", a.difference(b))\n",
    "print (\"Difference b - a    --> \", b - a)\n",
    "print (\"Difference b - a    --> \", b.difference(a))\n",
    "print (\"Symetric Diff a - b --> \", a.symmetric_difference(b))\n",
    "print (\"Symetric Diff b - a --> \", b.symmetric_difference(a))"
   ]
  },
  {
   "cell_type": "markdown",
   "id": "a55085ac-0ff9-4679-80a8-d945b9e0e7df",
   "metadata": {},
   "source": [
    "14.3 Add, delete, pop element from set"
   ]
  },
  {
   "cell_type": "code",
   "execution_count": 71,
   "id": "4c3cb9f6-72e1-4d17-9494-7a219e8af3d5",
   "metadata": {},
   "outputs": [
    {
     "name": "stdout",
     "output_type": "stream",
     "text": [
      "Original set a       -->  {'B', 'A', 'F', 'E'}\n",
      "Set After Adding (D) -->  {'A', 'D', 'B', 'F', 'E'}\n",
      "Set After Adding (D) -->  {'A', 'D', 'B', 'F', 'E'}\n",
      "Set After Deleting(D)-->  {'A', 'B', 'F', 'E'}\n",
      "Set After pop        -->  {'B', 'F', 'E'}\n",
      "Set After pop        -->  {'F', 'E'}\n"
     ]
    }
   ],
   "source": [
    "a = set(['A', 'B', 'E', 'F' ])\n",
    "print (\"Original set a       --> \", a)\n",
    "a.add(\"D\")\n",
    "print (\"Set After Adding (D) --> \", a)\n",
    "a.add(\"D\")\n",
    "print (\"Set After Adding (D) --> \", a)\n",
    "a.remove(\"D\")\n",
    "print (\"Set After Deleting(D)--> \", a)\n",
    "a.pop()\n",
    "print (\"Set After pop        --> \", a)\n",
    "a.pop()\n",
    "print (\"Set After pop        --> \", a)"
   ]
  },
  {
   "cell_type": "markdown",
   "id": "ccadf493-3541-482f-ab1b-9f9b59ea62c0",
   "metadata": {},
   "source": [
    "15 Command Line Argument"
   ]
  },
  {
   "cell_type": "markdown",
   "id": "68116f70-e07f-47f3-9b93-5499542c9596",
   "metadata": {},
   "source": [
    "15.1 Add two numbers given at cmd line"
   ]
  },
  {
   "cell_type": "code",
   "execution_count": 77,
   "id": "8289f79a-7dc6-46a7-abd0-9b4ddf505cc4",
   "metadata": {},
   "outputs": [
    {
     "name": "stdout",
     "output_type": "stream",
     "text": [
      "['C:\\\\Users\\\\tayal\\\\anaconda3\\\\Lib\\\\site-packages\\\\ipykernel_launcher.py', '-f', 'C:\\\\Users\\\\tayal\\\\AppData\\\\Roaming\\\\jupyter\\\\runtime\\\\kernel-6973f650-f9a4-4fae-9dce-1d5d581683a0.json']\n"
     ]
    },
    {
     "ename": "ValueError",
     "evalue": "invalid literal for int() with base 10: '-f'",
     "output_type": "error",
     "traceback": [
      "\u001b[1;31m---------------------------------------------------------------------------\u001b[0m",
      "\u001b[1;31mValueError\u001b[0m                                Traceback (most recent call last)",
      "Cell \u001b[1;32mIn[77], line 3\u001b[0m\n\u001b[0;32m      1\u001b[0m \u001b[38;5;28;01mimport\u001b[39;00m \u001b[38;5;21;01msys\u001b[39;00m\n\u001b[0;32m      2\u001b[0m \u001b[38;5;28mprint\u001b[39m (sys\u001b[38;5;241m.\u001b[39margv)\n\u001b[1;32m----> 3\u001b[0m a \u001b[38;5;241m=\u001b[39m \u001b[38;5;28mint\u001b[39m(sys\u001b[38;5;241m.\u001b[39margv[\u001b[38;5;241m1\u001b[39m]) \t\u001b[38;5;66;03m# First Number\u001b[39;00m\n\u001b[0;32m      4\u001b[0m b \u001b[38;5;241m=\u001b[39m \u001b[38;5;28mint\u001b[39m(sys\u001b[38;5;241m.\u001b[39margv[\u001b[38;5;241m2\u001b[39m])\t\u001b[38;5;66;03m# Second Number\u001b[39;00m\n\u001b[0;32m      5\u001b[0m c \u001b[38;5;241m=\u001b[39m a \u001b[38;5;241m+\u001b[39m b\n",
      "\u001b[1;31mValueError\u001b[0m: invalid literal for int() with base 10: '-f'"
     ]
    }
   ],
   "source": [
    "import sys\n",
    "print (sys.argv)\n",
    "a = int(sys.argv[1]) \t# First Number\n",
    "b = int(sys.argv[2])\t# Second Number\n",
    "c = a + b\n",
    "print (a, \" + \", b, \" --> \", c)"
   ]
  },
  {
   "cell_type": "markdown",
   "id": "9fda1696-1499-44b8-8b18-e4a13bfec5eb",
   "metadata": {},
   "source": [
    "15.2 Concatinate two strings given at cmd line"
   ]
  },
  {
   "cell_type": "code",
   "execution_count": 80,
   "id": "a6276360-3393-4001-b350-25ab78b9fce3",
   "metadata": {},
   "outputs": [
    {
     "name": "stdout",
     "output_type": "stream",
     "text": [
      "['C:\\\\Users\\\\tayal\\\\anaconda3\\\\Lib\\\\site-packages\\\\ipykernel_launcher.py', '-f', 'C:\\\\Users\\\\tayal\\\\AppData\\\\Roaming\\\\jupyter\\\\runtime\\\\kernel-6973f650-f9a4-4fae-9dce-1d5d581683a0.json']\n",
      "-f  +  C:\\Users\\tayal\\AppData\\Roaming\\jupyter\\runtime\\kernel-6973f650-f9a4-4fae-9dce-1d5d581683a0.json  -->  -f C:\\Users\\tayal\\AppData\\Roaming\\jupyter\\runtime\\kernel-6973f650-f9a4-4fae-9dce-1d5d581683a0.json\n"
     ]
    }
   ],
   "source": [
    "import sys\n",
    "print (sys.argv)\n",
    "s = sys.argv[1] + \" \" + sys.argv[2]\n",
    "print (sys.argv[1], \" + \", sys.argv[2], \" --> \", s)"
   ]
  },
  {
   "cell_type": "markdown",
   "id": "4aafd528-40a2-4340-9b00-018e6fbd2e5e",
   "metadata": {},
   "source": [
    "15.3 Add all the numbers given at cmd line"
   ]
  },
  {
   "cell_type": "code",
   "execution_count": 83,
   "id": "d9c4fd13-93ac-47a2-b679-fc4c7b0bf614",
   "metadata": {},
   "outputs": [
    {
     "name": "stdout",
     "output_type": "stream",
     "text": [
      "['C:\\\\Users\\\\tayal\\\\anaconda3\\\\Lib\\\\site-packages\\\\ipykernel_launcher.py', '-f', 'C:\\\\Users\\\\tayal\\\\AppData\\\\Roaming\\\\jupyter\\\\runtime\\\\kernel-6973f650-f9a4-4fae-9dce-1d5d581683a0.json']\n"
     ]
    },
    {
     "ename": "ValueError",
     "evalue": "invalid literal for int() with base 10: '-f'",
     "output_type": "error",
     "traceback": [
      "\u001b[1;31m---------------------------------------------------------------------------\u001b[0m",
      "\u001b[1;31mValueError\u001b[0m                                Traceback (most recent call last)",
      "Cell \u001b[1;32mIn[83], line 5\u001b[0m\n\u001b[0;32m      3\u001b[0m \u001b[38;5;28msum\u001b[39m\u001b[38;5;241m=\u001b[39m\u001b[38;5;241m0\u001b[39m\n\u001b[0;32m      4\u001b[0m \u001b[38;5;28;01mfor\u001b[39;00m s \u001b[38;5;129;01min\u001b[39;00m sys\u001b[38;5;241m.\u001b[39margv[\u001b[38;5;241m1\u001b[39m:]:\n\u001b[1;32m----> 5\u001b[0m \t\u001b[38;5;28msum\u001b[39m \u001b[38;5;241m+\u001b[39m\u001b[38;5;241m=\u001b[39m \u001b[38;5;28mint\u001b[39m(s)\n\u001b[0;32m      7\u001b[0m \u001b[38;5;28mprint\u001b[39m (\u001b[38;5;124m\"\u001b[39m\u001b[38;5;124mSum is --> \u001b[39m\u001b[38;5;124m\"\u001b[39m, \u001b[38;5;28msum\u001b[39m)\n",
      "\u001b[1;31mValueError\u001b[0m: invalid literal for int() with base 10: '-f'"
     ]
    }
   ],
   "source": [
    "import sys\n",
    "print (sys.argv)\n",
    "sum=0\n",
    "for s in sys.argv[1:]:\n",
    "\tsum += int(s)\n",
    "\n",
    "print (\"Sum is --> \", sum)"
   ]
  },
  {
   "cell_type": "markdown",
   "id": "3c933ed4-4970-4243-81a1-f7240afb6b09",
   "metadata": {},
   "source": [
    "16 File Handling"
   ]
  },
  {
   "cell_type": "markdown",
   "id": "6e24d0d0-4b64-4a66-bbc8-dc0748810e98",
   "metadata": {},
   "source": [
    "16.1 Writing 1 to 10 in file"
   ]
  },
  {
   "cell_type": "code",
   "execution_count": 87,
   "id": "53185896-7ace-450f-bc4e-8289df4d84ad",
   "metadata": {},
   "outputs": [
    {
     "name": "stdout",
     "output_type": "stream",
     "text": [
      "Writing done !! \n",
      "Open result.txt to view the content\n"
     ]
    }
   ],
   "source": [
    "fp=open('result.txt','w')\t\n",
    "for  i in range(1,11):\n",
    "\tfp.write(str(i) + \"\\n\")\t\n",
    "fp.close()\n",
    "\n",
    "print (\"Writing done !! \\nOpen result.txt to view the content\")"
   ]
  },
  {
   "cell_type": "markdown",
   "id": "333b5257-5b26-47cd-a3e3-e2c392fe00de",
   "metadata": {},
   "source": [
    "16.2 Read a file and print its content"
   ]
  },
  {
   "cell_type": "code",
   "execution_count": 90,
   "id": "243726f8-a1f2-4c89-bdcd-32f2909f025b",
   "metadata": {},
   "outputs": [
    {
     "name": "stdout",
     "output_type": "stream",
     "text": [
      "1\n",
      "2\n",
      "3\n",
      "4\n",
      "5\n",
      "6\n",
      "7\n",
      "8\n",
      "9\n",
      "10\n"
     ]
    }
   ],
   "source": [
    "fp=open('result.txt')\t\t\n",
    "for line in fp: \t\t    \n",
    "\tprint (line.strip())\n",
    "fp.close()"
   ]
  },
  {
   "cell_type": "markdown",
   "id": "eef5de5e-ea32-4d06-9b32-ba1ba38f5d99",
   "metadata": {},
   "source": [
    "16.3 Read from one file, Convert it to upper case and write to other file"
   ]
  },
  {
   "cell_type": "code",
   "execution_count": null,
   "id": "96a6e312-03cb-4631-b5af-e4b30cb81528",
   "metadata": {},
   "outputs": [],
   "source": []
  }
 ],
 "metadata": {
  "kernelspec": {
   "display_name": "Python [conda env:base] *",
   "language": "python",
   "name": "conda-base-py"
  },
  "language_info": {
   "codemirror_mode": {
    "name": "ipython",
    "version": 3
   },
   "file_extension": ".py",
   "mimetype": "text/x-python",
   "name": "python",
   "nbconvert_exporter": "python",
   "pygments_lexer": "ipython3",
   "version": "3.12.7"
  }
 },
 "nbformat": 4,
 "nbformat_minor": 5
}
