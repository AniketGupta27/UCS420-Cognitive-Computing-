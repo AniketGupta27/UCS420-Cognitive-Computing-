{
 "cells": [
  {
   "cell_type": "markdown",
   "id": "4d285c38-aa07-42be-a9aa-bd02ae4dad09",
   "metadata": {},
   "source": [
    "1) Create a dataset in the table."
   ]
  },
  {
   "cell_type": "code",
   "execution_count": 3,
   "id": "359d3fdc-0e16-4076-a6c5-eab4552d558e",
   "metadata": {},
   "outputs": [
    {
     "name": "stdout",
     "output_type": "stream",
     "text": [
      "   Tid Refund Marital Status Taxable Income Cheat\n",
      "0    1    Yes         Single           125K    No\n",
      "1    2     No        Married           100K    No\n",
      "2    3     No         Single            70K    No\n",
      "3    4    Yes        Married           120K    No\n",
      "4    5     No       Divorced            95K   Yes\n",
      "5    6     No        Married            60K   Yes\n",
      "6    7     No       Divorced           220K    No\n",
      "7    8     No         Single            85K   Yes\n",
      "8    9    Yes        Married            75K   Yes\n",
      "9   10     No         Single            90K   Yes\n"
     ]
    }
   ],
   "source": [
    "import pandas as pd\n",
    "data = {\n",
    "    \"Tid\": [1, 2, 3, 4, 5, 6, 7, 8, 9, 10],\n",
    "    \"Refund\": [\"Yes\", \"No\", \"No\", \"Yes\", \"No\", \"No\", \"No\", \"No\", \"Yes\", \"No\"],\n",
    "    \"Marital Status\": [\"Single\", \"Married\", \"Single\", \"Married\", \"Divorced\", \"Married\", \"Divorced\", \"Single\", \"Married\", \"Single\"],\n",
    "    \"Taxable Income\": [\"125K\", \"100K\", \"70K\", \"120K\", \"95K\", \"60K\", \"220K\", \"85K\", \"75K\", \"90K\"],\n",
    "    \"Cheat\": [\"No\", \"No\", \"No\", \"No\", \"Yes\", \"Yes\", \"No\", \"Yes\", \"Yes\", \"Yes\"]\n",
    "}\n",
    "df = pd.DataFrame(data)\n",
    "print(df)"
   ]
  },
  {
   "cell_type": "markdown",
   "id": "ef0aefa2-2aab-40a6-9e7d-2a87004417d5",
   "metadata": {},
   "source": [
    "2) From the above table that you have created, locate row 0, 4, 7 and 8 using DataFrame."
   ]
  },
  {
   "cell_type": "code",
   "execution_count": 6,
   "id": "cd25b091-9088-4477-8845-a91afe2f6085",
   "metadata": {},
   "outputs": [
    {
     "name": "stdout",
     "output_type": "stream",
     "text": [
      "   Tid Refund Marital Status Taxable Income Cheat\n",
      "0    1    Yes         Single           125K    No\n",
      "4    5     No       Divorced            95K   Yes\n",
      "7    8     No         Single            85K   Yes\n",
      "8    9    Yes        Married            75K   Yes\n"
     ]
    }
   ],
   "source": [
    "selected_rows = df.loc[[0, 4, 7, 8]]\n",
    "print(selected_rows)"
   ]
  },
  {
   "cell_type": "markdown",
   "id": "45ae774e-15d2-49a5-a89a-9fcab4cd1167",
   "metadata": {},
   "source": [
    "3) Navigate the DataFrame and do the following task for the table created in question 1:"
   ]
  },
  {
   "cell_type": "markdown",
   "id": "49f36e4b-9c23-466b-8364-45907c6d5e97",
   "metadata": {},
   "source": [
    "Select row from index 3 to 7.\n",
    "\n"
   ]
  },
  {
   "cell_type": "markdown",
   "id": "d510900d-2468-42b0-acb9-b28c368a8d1d",
   "metadata": {},
   "source": [
    "Select row from index 4 to 8, and column 2 to 4."
   ]
  },
  {
   "cell_type": "markdown",
   "id": "1bc71b61-5eb7-45c2-96d8-2f4a0ae45c04",
   "metadata": {},
   "source": [
    "Select all rows with column index 1 to 3 (include index 3 during selection)."
   ]
  },
  {
   "cell_type": "code",
   "execution_count": 13,
   "id": "03e67865-5f30-4940-9377-07c9b9b4d25f",
   "metadata": {},
   "outputs": [
    {
     "name": "stdout",
     "output_type": "stream",
     "text": [
      "Rows from index 3 to 7:\n",
      "   Tid Refund Marital Status Taxable Income Cheat\n",
      "3    4    Yes        Married           120K    No\n",
      "4    5     No       Divorced            95K   Yes\n",
      "5    6     No        Married            60K   Yes\n",
      "6    7     No       Divorced           220K    No\n"
     ]
    }
   ],
   "source": [
    "rows_3_to_7 = df.iloc[3:7]\n",
    "print(\"Rows from index 3 to 7:\")\n",
    "print(rows_3_to_7)"
   ]
  },
  {
   "cell_type": "code",
   "execution_count": 15,
   "id": "2be9ffd8-66f9-4fdf-9f04-06eee50a9606",
   "metadata": {},
   "outputs": [
    {
     "name": "stdout",
     "output_type": "stream",
     "text": [
      "Rows from index 4 to 8, and columns 2 to 4:\n",
      "  Marital Status Taxable Income Cheat\n",
      "4       Divorced            95K   Yes\n",
      "5        Married            60K   Yes\n",
      "6       Divorced           220K    No\n",
      "7         Single            85K   Yes\n",
      "8        Married            75K   Yes\n"
     ]
    }
   ],
   "source": [
    "rows = df.iloc[4:9, 2:5]\n",
    "print(\"Rows from index 4 to 8, and columns 2 to 4:\")\n",
    "print(rows)"
   ]
  },
  {
   "cell_type": "code",
   "execution_count": 17,
   "id": "3697f115-5844-47ce-acbf-071d81daf6a7",
   "metadata": {},
   "outputs": [
    {
     "name": "stdout",
     "output_type": "stream",
     "text": [
      "All rows with column index 1 to 3:\n",
      "  Refund Marital Status Taxable Income\n",
      "0    Yes         Single           125K\n",
      "1     No        Married           100K\n",
      "2     No         Single            70K\n",
      "3    Yes        Married           120K\n",
      "4     No       Divorced            95K\n",
      "5     No        Married            60K\n",
      "6     No       Divorced           220K\n",
      "7     No         Single            85K\n",
      "8    Yes        Married            75K\n",
      "9     No         Single            90K\n"
     ]
    }
   ],
   "source": [
    "rows= df.iloc[:, 1:4]\n",
    "print(\"All rows with column index 1 to 3:\") \n",
    "print(rows)"
   ]
  },
  {
   "cell_type": "markdown",
   "id": "850201be-1e9b-44cd-8fa0-c17eff66ef89",
   "metadata": {},
   "source": [
    "4) Read a csv file and display its first five rows."
   ]
  },
  {
   "cell_type": "markdown",
   "id": "e48d92f3-351a-4873-b694-7364fcdd8152",
   "metadata": {},
   "source": [
    "import pandas as pd\n",
    "df = pd.read_csv('iris.csv')\n",
    "print(df.head())"
   ]
  },
  {
   "cell_type": "markdown",
   "id": "d8774b00-0670-46d0-8da7-7300af568934",
   "metadata": {},
   "source": [
    "Q.5 From the csv file (uploaded in the Q.4) delete row 4, and delete column 3. Display the result."
   ]
  },
  {
   "cell_type": "markdown",
   "id": "568bafd8-4b23-4aa6-b762-e6f471ae7ef5",
   "metadata": {},
   "source": [
    "import pandas as pd\n",
    "df = pd.read_csv('iris.csv')\n",
    "df = df.drop(index=4)\n",
    "df = df.drop(df.columns[2], axis=1)\n",
    "print(df)"
   ]
  },
  {
   "cell_type": "markdown",
   "id": "a02cde6c-2894-477a-b11b-2e6b630a5f52",
   "metadata": {},
   "source": [
    "Q.6 Create a Sample Dataset (employees.csv)"
   ]
  },
  {
   "cell_type": "markdown",
   "id": "8d7959e0-099e-4e0a-9441-7e547285f78e",
   "metadata": {},
   "source": [
    "Dataset: Employee Information"
   ]
  },
  {
   "cell_type": "markdown",
   "id": "addaf88b-c4ed-4ca8-9e76-463522664288",
   "metadata": {},
   "source": [
    "Tasks to Perform on the Dataset\n"
   ]
  },
  {
   "cell_type": "markdown",
   "id": "2cce3048-78c0-4f80-9437-018c4b67f0e8",
   "metadata": {},
   "source": [
    "a) Determine the Shape of the DataFrame"
   ]
  },
  {
   "cell_type": "markdown",
   "id": "da0fbbfd-0e5c-425f-8c7d-45a2f993b907",
   "metadata": {},
   "source": [
    "(Find the number of rows and columns.)"
   ]
  },
  {
   "cell_type": "markdown",
   "id": "d0f40172-b297-47c1-8caf-916a7c540f09",
   "metadata": {},
   "source": [
    "b) Display a Summary of the DataFrame"
   ]
  },
  {
   "cell_type": "markdown",
   "id": "2b952f3f-8af6-4025-bc27-d40d204fb770",
   "metadata": {},
   "source": [
    "(Include data types and non-null counts for each column.)"
   ]
  },
  {
   "cell_type": "markdown",
   "id": "75a962ae-debf-48fc-98ea-e9528b60cf60",
   "metadata": {},
   "source": [
    "c) Generate Descriptive Statistics"
   ]
  },
  {
   "cell_type": "markdown",
   "id": "c02f5ab1-c8ff-401c-9fe9-2ab20f6fd0bf",
   "metadata": {},
   "source": [
    "(Provide statistical metrics like mean, median, minimum, maximum, etc., for numeric columns.)"
   ]
  },
  {
   "cell_type": "markdown",
   "id": "c759ed9b-cfb3-4169-ad50-f8ff8b6f0f2f",
   "metadata": {},
   "source": [
    "d) Display Specific Rows"
   ]
  },
  {
   "cell_type": "markdown",
   "id": "fc9008b8-aeba-468b-805e-00c22d08ba38",
   "metadata": {},
   "source": [
    "(Display the first 5 rows and the last 3 rows of the DataFrame.)"
   ]
  },
  {
   "cell_type": "markdown",
   "id": "632faff4-243d-4456-9781-ad4cfca58c76",
   "metadata": {},
   "source": [
    "e) Calculate Specific Statistics\n"
   ]
  },
  {
   "cell_type": "markdown",
   "id": "247a7857-4722-40ff-95b0-42343e210fc3",
   "metadata": {},
   "source": [
    "1. The average salary of employees.\n",
    "2. The total bonus paid to all employees.\n",
    "3. The youngest employee's age.\n",
    "4. The highest performance rating."
   ]
  },
  {
   "cell_type": "markdown",
   "id": "1a1823c6-490f-4c6e-9683-72f1bff22984",
   "metadata": {},
   "source": [
    "f) Sort the DataFrame\n"
   ]
  },
  {
   "cell_type": "markdown",
   "id": "0d2790c4-d2c0-43e8-b1fd-e851c61371f4",
   "metadata": {},
   "source": [
    "(Sort the DataFrame by the Salary column in descending order.)"
   ]
  },
  {
   "cell_type": "markdown",
   "id": "eed88232-fcb8-470a-8c3d-94322d9c3b75",
   "metadata": {},
   "source": [
    "g) Add a New Column: Performance Category\n"
   ]
  },
  {
   "cell_type": "markdown",
   "id": "1a5743c7-fd08-4dbb-b817-fbf9fd0b55fc",
   "metadata": {},
   "source": [
    "Categorize employees based on their performance rating:\n",
    "1. Excellent: Rating >= 4.5\n",
    "2. Good: Rating >= 4.0 but < 4.5\n",
    "3. Average: Rating < 4.0"
   ]
  },
  {
   "cell_type": "markdown",
   "id": "93757a17-50b0-4d75-b669-37fa85dd557f",
   "metadata": {},
   "source": [
    "h) Identify Missing Values"
   ]
  },
  {
   "cell_type": "markdown",
   "id": "e7b409ea-3477-47aa-9083-fa5b67bc64c1",
   "metadata": {},
   "source": [
    "(Check for any missing values in the DataFrame.)"
   ]
  },
  {
   "cell_type": "markdown",
   "id": "92a21dce-3a58-4a8c-bd35-9ffdb08abfd8",
   "metadata": {},
   "source": [
    "i) Rename a Column"
   ]
  },
  {
   "cell_type": "markdown",
   "id": "e5137148-371a-4c27-98b8-de2eb9f8f616",
   "metadata": {},
   "source": [
    "(Rename the Employee_ID column to ID.)"
   ]
  },
  {
   "cell_type": "markdown",
   "id": "e6d024e8-1a96-4656-aabc-8e9b40fc268a",
   "metadata": {},
   "source": [
    "j) Filter Employees\n"
   ]
  },
  {
   "cell_type": "markdown",
   "id": "7ae20b6d-c962-40de-b664-639a23e60ddc",
   "metadata": {},
   "source": [
    "Find employees who meet the following conditions:\n",
    "1. Have more than 5 years of experience.\n",
    "2. Belong to the IT department.\n"
   ]
  },
  {
   "cell_type": "markdown",
   "id": "b9a8bbed-0972-4c92-ad02-509b52f5d4eb",
   "metadata": {},
   "source": [
    "k) Add a New Column: Tax"
   ]
  },
  {
   "cell_type": "markdown",
   "id": "02e74ec4-e760-40e3-8e5b-6d371334afa0",
   "metadata": {},
   "source": [
    "(Calculate 10% of the Salary for each employee and store it in a new column named Tax.)"
   ]
  },
  {
   "cell_type": "markdown",
   "id": "489b97aa-d367-4f0a-b29c-2a13030dc2c7",
   "metadata": {},
   "source": [
    "l) Save the Modified DataFrame\n"
   ]
  },
  {
   "cell_type": "markdown",
   "id": "9df3a048-f8c0-4b81-9ba0-43e5d887326d",
   "metadata": {},
   "source": [
    "(Save the modified DataFrame, including all new columns, to a new CSV file.)"
   ]
  },
  {
   "cell_type": "code",
   "execution_count": 64,
   "id": "f58a320e-e585-4107-82a4-276345d4cf1f",
   "metadata": {},
   "outputs": [
    {
     "name": "stdout",
     "output_type": "stream",
     "text": [
      "   Employee_ID     Name Department  Age  Salary  Years_of_Experience  \\\n",
      "0          101    Alice         HR   29   50000                    4   \n",
      "1          102      Bob         IT   34   70000                    8   \n",
      "2          103  Charlie         IT   41   65000                   10   \n",
      "3          104    Diana  Marketing   28   55000                    3   \n",
      "4          105   Edward      Sales   38   60000                   12   \n",
      "\n",
      "  Joining_Date  Gender  Bonus  Rating  \n",
      "0   2020-03-15  Female   5000     4.5  \n",
      "1   2017-07-19    Male   7000     4.0  \n",
      "2   2013-06-01    Male   6000     3.8  \n",
      "3   2021-02-10  Female   4500     4.7  \n",
      "4   2010-11-25    Male   5000     3.5  \n"
     ]
    }
   ],
   "source": [
    "import pandas as pd\n",
    "\n",
    "\n",
    "data = {\n",
    "    \"Employee_ID\": [101, 102, 103, 104, 105],\n",
    "    \"Name\": [\"Alice\", \"Bob\", \"Charlie\", \"Diana\", \"Edward\"],\n",
    "    \"Department\": [\"HR\", \"IT\", \"IT\", \"Marketing\", \"Sales\"],\n",
    "    \"Age\": [29, 34, 41, 28, 38],\n",
    "    \"Salary\": [50000, 70000, 65000, 55000, 60000],\n",
    "    \"Years_of_Experience\": [4, 8, 10, 3, 12],\n",
    "    \"Joining_Date\": [\"2020-03-15\", \"2017-07-19\", \"2013-06-01\", \"2021-02-10\", \"2010-11-25\"],\n",
    "    \"Gender\": [\"Female\", \"Male\", \"Male\", \"Female\", \"Male\"],\n",
    "    \"Bonus\": [5000, 7000, 6000, 4500, 5000],\n",
    "    \"Rating\": [4.5, 4.0, 3.8, 4.7, 3.5]\n",
    "}\n",
    "\n",
    "\n",
    "df = pd.DataFrame(data)\n",
    "\n",
    "\n",
    "print(df)"
   ]
  },
  {
   "cell_type": "code",
   "execution_count": 73,
   "id": "060154b4-0b55-4826-aee5-f93ea4892906",
   "metadata": {},
   "outputs": [
    {
     "name": "stdout",
     "output_type": "stream",
     "text": [
      "Shape of the DataFrame: (5, 10)\n",
      "<class 'pandas.core.frame.DataFrame'>\n",
      "RangeIndex: 5 entries, 0 to 4\n",
      "Data columns (total 10 columns):\n",
      " #   Column               Non-Null Count  Dtype  \n",
      "---  ------               --------------  -----  \n",
      " 0   Employee_ID          5 non-null      int64  \n",
      " 1   Name                 5 non-null      object \n",
      " 2   Department           5 non-null      object \n",
      " 3   Age                  5 non-null      int64  \n",
      " 4   Salary               5 non-null      int64  \n",
      " 5   Years_of_Experience  5 non-null      int64  \n",
      " 6   Joining_Date         5 non-null      object \n",
      " 7   Gender               5 non-null      object \n",
      " 8   Bonus                5 non-null      int64  \n",
      " 9   Rating               5 non-null      float64\n",
      "dtypes: float64(1), int64(5), object(4)\n",
      "memory usage: 532.0+ bytes\n",
      "\n",
      "Descriptive Statistics:\n",
      "        Employee_ID        Age       Salary  Years_of_Experience   Bonus  \\\n",
      "count     5.000000   5.000000      5.00000             5.000000     5.0   \n",
      "mean    103.000000  34.000000  60000.00000             7.400000  5500.0   \n",
      "std       1.581139   5.612486   7905.69415             3.847077  1000.0   \n",
      "min     101.000000  28.000000  50000.00000             3.000000  4500.0   \n",
      "25%     102.000000  29.000000  55000.00000             4.000000  5000.0   \n",
      "50%     103.000000  34.000000  60000.00000             8.000000  5000.0   \n",
      "75%     104.000000  38.000000  65000.00000            10.000000  6000.0   \n",
      "max     105.000000  41.000000  70000.00000            12.000000  7000.0   \n",
      "\n",
      "         Rating  \n",
      "count  5.000000  \n",
      "mean   4.100000  \n",
      "std    0.494975  \n",
      "min    3.500000  \n",
      "25%    3.800000  \n",
      "50%    4.000000  \n",
      "75%    4.500000  \n",
      "max    4.700000  \n",
      "\n",
      "First 5 Rows:\n",
      "    Employee_ID     Name Department  Age  Salary  Years_of_Experience  \\\n",
      "0          101    Alice         HR   29   50000                    4   \n",
      "1          102      Bob         IT   34   70000                    8   \n",
      "2          103  Charlie         IT   41   65000                   10   \n",
      "3          104    Diana  Marketing   28   55000                    3   \n",
      "4          105   Edward      Sales   38   60000                   12   \n",
      "\n",
      "  Joining_Date  Gender  Bonus  Rating  \n",
      "0   2020-03-15  Female   5000     4.5  \n",
      "1   2017-07-19    Male   7000     4.0  \n",
      "2   2013-06-01    Male   6000     3.8  \n",
      "3   2021-02-10  Female   4500     4.7  \n",
      "4   2010-11-25    Male   5000     3.5  \n",
      "\n",
      "Last 3 Rows:\n",
      "    Employee_ID     Name Department  Age  Salary  Years_of_Experience  \\\n",
      "2          103  Charlie         IT   41   65000                   10   \n",
      "3          104    Diana  Marketing   28   55000                    3   \n",
      "4          105   Edward      Sales   38   60000                   12   \n",
      "\n",
      "  Joining_Date  Gender  Bonus  Rating  \n",
      "2   2013-06-01    Male   6000     3.8  \n",
      "3   2021-02-10  Female   4500     4.7  \n",
      "4   2010-11-25    Male   5000     3.5  \n",
      "\n",
      "Average Salary: 60000.0\n",
      "Total Bonus: 27500\n",
      "Youngest Employee's Age: 28\n",
      "Highest Performance Rating: 4.7\n",
      "\n",
      "DataFrame Sorted by Salary (Descending):\n",
      "    Employee_ID     Name Department  Age  Salary  Years_of_Experience  \\\n",
      "1          102      Bob         IT   34   70000                    8   \n",
      "2          103  Charlie         IT   41   65000                   10   \n",
      "4          105   Edward      Sales   38   60000                   12   \n",
      "3          104    Diana  Marketing   28   55000                    3   \n",
      "0          101    Alice         HR   29   50000                    4   \n",
      "\n",
      "  Joining_Date  Gender  Bonus  Rating  \n",
      "1   2017-07-19    Male   7000     4.0  \n",
      "2   2013-06-01    Male   6000     3.8  \n",
      "4   2010-11-25    Male   5000     3.5  \n",
      "3   2021-02-10  Female   4500     4.7  \n",
      "0   2020-03-15  Female   5000     4.5  \n",
      "\n",
      "DataFrame with Performance Categories:\n",
      "    Employee_ID     Name Department  Age  Salary  Years_of_Experience  \\\n",
      "0          101    Alice         HR   29   50000                    4   \n",
      "1          102      Bob         IT   34   70000                    8   \n",
      "2          103  Charlie         IT   41   65000                   10   \n",
      "3          104    Diana  Marketing   28   55000                    3   \n",
      "4          105   Edward      Sales   38   60000                   12   \n",
      "\n",
      "  Joining_Date  Gender  Bonus  Rating Performance_Category  \n",
      "0   2020-03-15  Female   5000     4.5            Excellent  \n",
      "1   2017-07-19    Male   7000     4.0                 Good  \n",
      "2   2013-06-01    Male   6000     3.8              Average  \n",
      "3   2021-02-10  Female   4500     4.7            Excellent  \n",
      "4   2010-11-25    Male   5000     3.5              Average  \n",
      "\n",
      "Missing Values in Each Column:\n",
      " Employee_ID             0\n",
      "Name                    0\n",
      "Department              0\n",
      "Age                     0\n",
      "Salary                  0\n",
      "Years_of_Experience     0\n",
      "Joining_Date            0\n",
      "Gender                  0\n",
      "Bonus                   0\n",
      "Rating                  0\n",
      "Performance_Category    0\n",
      "dtype: int64\n",
      "\n",
      "DataFrame with Renamed Column:\n",
      "     ID     Name Department  Age  Salary  Years_of_Experience Joining_Date  \\\n",
      "0  101    Alice         HR   29   50000                    4   2020-03-15   \n",
      "1  102      Bob         IT   34   70000                    8   2017-07-19   \n",
      "2  103  Charlie         IT   41   65000                   10   2013-06-01   \n",
      "3  104    Diana  Marketing   28   55000                    3   2021-02-10   \n",
      "4  105   Edward      Sales   38   60000                   12   2010-11-25   \n",
      "\n",
      "   Gender  Bonus  Rating Performance_Category  \n",
      "0  Female   5000     4.5            Excellent  \n",
      "1    Male   7000     4.0                 Good  \n",
      "2    Male   6000     3.8              Average  \n",
      "3  Female   4500     4.7            Excellent  \n",
      "4    Male   5000     3.5              Average  \n"
     ]
    }
   ],
   "source": [
    "shape = df.shape\n",
    "print(\"Shape of the DataFrame:\", shape)\n",
    "summary = df.info()\n",
    "descriptive_stats = df.describe()\n",
    "print(\"\\nDescriptive Statistics:\\n\", descriptive_stats)\n",
    "print(\"\\nFirst 5 Rows:\\n\", df.head())\n",
    "print(\"\\nLast 3 Rows:\\n\", df.tail(3))\n",
    "average_salary = df[\"Salary\"].mean()\n",
    "total_bonus = df[\"Bonus\"].sum()\n",
    "youngest_age = df[\"Age\"].min()\n",
    "highest_rating = df[\"Rating\"].max()\n",
    "print(\"\\nAverage Salary:\", average_salary)\n",
    "print(\"Total Bonus:\", total_bonus)\n",
    "print(\"Youngest Employee's Age:\", youngest_age)\n",
    "print(\"Highest Performance Rating:\", highest_rating)\n",
    "sorted_df = df.sort_values(by=\"Salary\", ascending=False)\n",
    "print(\"\\nDataFrame Sorted by Salary (Descending):\\n\", sorted_df)\n",
    "def categorize_rating(rating):\n",
    "    if rating >= 4.5:\n",
    "        return \"Excellent\"\n",
    "    elif 4.0 <= rating < 4.5:\n",
    "        return \"Good\"\n",
    "    else:\n",
    "        return \"Average\"\n",
    "df[\"Performance_Category\"] = df[\"Rating\"].apply(categorize_rating)\n",
    "print(\"\\nDataFrame with Performance Categories:\\n\", df)\n",
    "missing_values = df.isnull().sum()\n",
    "print(\"\\nMissing Values in Each Column:\\n\", missing_values)\n",
    "df.rename(columns={\"Employee_ID\": \"ID\"}, inplace=True)\n",
    "print(\"\\nDataFrame with Renamed Column:\\n\", df)"
   ]
  },
  {
   "cell_type": "code",
   "execution_count": 75,
   "id": "fd520443-30ee-4852-888f-c15a0a0018b2",
   "metadata": {},
   "outputs": [
    {
     "name": "stdout",
     "output_type": "stream",
     "text": [
      "\n",
      "Employees with > 5 Years of Experience in IT Department:\n",
      "     ID     Name Department  Age  Salary  Years_of_Experience Joining_Date  \\\n",
      "1  102      Bob         IT   34   70000                    8   2017-07-19   \n",
      "2  103  Charlie         IT   41   65000                   10   2013-06-01   \n",
      "\n",
      "  Gender  Bonus  Rating Performance_Category  \n",
      "1   Male   7000     4.0                 Good  \n",
      "2   Male   6000     3.8              Average  \n",
      "\n",
      "DataFrame with Tax Column:\n",
      "     ID     Name Department  Age  Salary  Years_of_Experience Joining_Date  \\\n",
      "0  101    Alice         HR   29   50000                    4   2020-03-15   \n",
      "1  102      Bob         IT   34   70000                    8   2017-07-19   \n",
      "2  103  Charlie         IT   41   65000                   10   2013-06-01   \n",
      "3  104    Diana  Marketing   28   55000                    3   2021-02-10   \n",
      "4  105   Edward      Sales   38   60000                   12   2010-11-25   \n",
      "\n",
      "   Gender  Bonus  Rating Performance_Category     Tax  \n",
      "0  Female   5000     4.5            Excellent  5000.0  \n",
      "1    Male   7000     4.0                 Good  7000.0  \n",
      "2    Male   6000     3.8              Average  6500.0  \n",
      "3  Female   4500     4.7            Excellent  5500.0  \n",
      "4    Male   5000     3.5              Average  6000.0  \n",
      "\n",
      "Modified DataFrame saved to 'modified_employees.csv'\n"
     ]
    }
   ],
   "source": [
    "filtered_employees = df[(df[\"Years_of_Experience\"] > 5) & (df[\"Department\"] == \"IT\")]\n",
    "print(\"\\nEmployees with > 5 Years of Experience in IT Department:\\n\", filtered_employees)\n",
    "df[\"Tax\"] = df[\"Salary\"] * 0.1\n",
    "print(\"\\nDataFrame with Tax Column:\\n\", df)\n",
    "df.to_csv(\"modified_employees.csv\", index=False)\n",
    "print(\"\\nModified DataFrame saved to 'modified_employees.csv'\")"
   ]
  }
 ],
 "metadata": {
  "kernelspec": {
   "display_name": "Python [conda env:base] *",
   "language": "python",
   "name": "conda-base-py"
  },
  "language_info": {
   "codemirror_mode": {
    "name": "ipython",
    "version": 3
   },
   "file_extension": ".py",
   "mimetype": "text/x-python",
   "name": "python",
   "nbconvert_exporter": "python",
   "pygments_lexer": "ipython3",
   "version": "3.12.7"
  }
 },
 "nbformat": 4,
 "nbformat_minor": 5
}
