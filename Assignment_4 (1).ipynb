{
 "cells": [
  {
   "cell_type": "markdown",
   "id": "c0916c48-dd20-4fd3-81a1-4563512c8cec",
   "metadata": {},
   "source": [
    "Assignment-4"
   ]
  },
  {
   "cell_type": "markdown",
   "id": "501200ab-8f47-4481-bc4d-5c115e1b659c",
   "metadata": {},
   "source": [
    "UCS420 “Cognitive Computing” "
   ]
  },
  {
   "cell_type": "markdown",
   "id": "0c4ae36b-e681-4a67-87dc-2131223b8177",
   "metadata": {},
   "source": [
    "NumPy-Introduction-1 "
   ]
  },
  {
   "cell_type": "markdown",
   "id": "f6668f7c-ce7d-4cc4-9cc8-619e621c5e04",
   "metadata": {},
   "source": [
    "Q.1 Write a program to create a NumPy 1D-array with 5 elements and perform basic \n",
    "operations like: "
   ]
  },
  {
   "cell_type": "markdown",
   "id": "47bd18c9-8285-49f9-b46d-23e7ebaa8134",
   "metadata": {},
   "source": [
    "a) Addition of 2 in all the element"
   ]
  },
  {
   "cell_type": "code",
   "execution_count": 17,
   "id": "146004ca-869d-4ee1-9331-0a11ffc0b27f",
   "metadata": {},
   "outputs": [
    {
     "name": "stdout",
     "output_type": "stream",
     "text": [
      "[3 4 5 6 7]\n"
     ]
    }
   ],
   "source": [
    "import numpy as np\n",
    "a=np.array([1,2,3,4,5])\n",
    "print(a+2)"
   ]
  },
  {
   "cell_type": "markdown",
   "id": "b4ccdcab-1d86-4776-9302-96fc696f4f9d",
   "metadata": {},
   "source": [
    "b) Multiply 3 with all the elements "
   ]
  },
  {
   "cell_type": "code",
   "execution_count": 19,
   "id": "08817fb0-7ae3-4504-aff5-b6decdab6190",
   "metadata": {},
   "outputs": [
    {
     "name": "stdout",
     "output_type": "stream",
     "text": [
      "[ 3  6  9 12 15]\n"
     ]
    }
   ],
   "source": [
    "print(a*3)"
   ]
  },
  {
   "cell_type": "markdown",
   "id": "00b1eca6-bd11-4157-aba8-f384095fab58",
   "metadata": {},
   "source": [
    "c) Divide every element by 2 "
   ]
  },
  {
   "cell_type": "code",
   "execution_count": 22,
   "id": "1bc895ec-10c2-40c3-ab77-6adb48f67748",
   "metadata": {},
   "outputs": [
    {
     "name": "stdout",
     "output_type": "stream",
     "text": [
      "[0.5 1.  1.5 2.  2.5]\n"
     ]
    }
   ],
   "source": [
    "print(a/2)"
   ]
  },
  {
   "cell_type": "markdown",
   "id": "f7c26927-8106-41aa-bba6-5de09c5cce12",
   "metadata": {},
   "source": [
    "Q.2 Questions on Basic NumPy Array:"
   ]
  },
  {
   "cell_type": "markdown",
   "id": "6ebae387-c039-4952-8b9c-216bb7ad91ce",
   "metadata": {},
   "source": [
    "a) Reverse the NumPy array: arr = np.array([1, 2, 3, 6, 4, 5])"
   ]
  },
  {
   "cell_type": "code",
   "execution_count": 26,
   "id": "e35d51d5-a147-4585-a4cb-0c12270078df",
   "metadata": {},
   "outputs": [
    {
     "name": "stdout",
     "output_type": "stream",
     "text": [
      "[5 4 6 3 2 1]\n"
     ]
    }
   ],
   "source": [
    "b=np.array([1,2,3,6,4,5])\n",
    "r_array=b[::-1]\n",
    "print(r_array)"
   ]
  },
  {
   "cell_type": "markdown",
   "id": "91b8dacd-8f69-4263-b191-04a9f96e288b",
   "metadata": {},
   "source": [
    "b) Find the most frequent value and their indice(s) in the following arrays:"
   ]
  },
  {
   "cell_type": "markdown",
   "id": "a5477fe8-80fe-4b8c-a797-8335090b85eb",
   "metadata": {},
   "source": [
    "i. x = np.array([1,2,3,4,5,1,2,1,1,1]) "
   ]
  },
  {
   "cell_type": "code",
   "execution_count": 30,
   "id": "fd00f23a-8ea0-4c4c-a9bd-695cc1235828",
   "metadata": {},
   "outputs": [
    {
     "name": "stdout",
     "output_type": "stream",
     "text": [
      "Most Frequent Value: 1\n",
      "Indices: [0 5 7 8 9]\n"
     ]
    }
   ],
   "source": [
    "import numpy as np\n",
    "x=np.array([1,2,3,4,5,1,2,1,1,1])\n",
    "unique,counts=np.unique(x,return_counts=True)\n",
    "most_frequent_value=unique[np.argmax(counts)]\n",
    "indices=np.where(x==most_frequent_value)[0]\n",
    "print(\"Most Frequent Value:\",most_frequent_value)\n",
    "print(\"Indices:\",indices)"
   ]
  },
  {
   "cell_type": "markdown",
   "id": "17ea7e8e-ac29-4e58-b2ba-5c4b343d675f",
   "metadata": {},
   "source": [
    "ii. y = np.array([1, 1, 1, 2, 3, 4, 2, 4, 3, 3, ])"
   ]
  },
  {
   "cell_type": "code",
   "execution_count": 33,
   "id": "12e75909-04a4-4ea2-9df4-34f01e7a1b9b",
   "metadata": {},
   "outputs": [
    {
     "name": "stdout",
     "output_type": "stream",
     "text": [
      "Most Frequent Value: 1\n",
      "Indices: [0 1 2]\n"
     ]
    }
   ],
   "source": [
    "import numpy as np\n",
    "y=np.array([1,1,1,2,3,4,2,4,3,3])\n",
    "unique,counts=np.unique(y,return_counts=True)\n",
    "most_frequent_value=unique[np.argmax(counts)]\n",
    "indices=np.where(y==most_frequent_value)[0]\n",
    "print(\"Most Frequent Value:\",most_frequent_value)\n",
    "print(\"Indices:\",indices)"
   ]
  },
  {
   "cell_type": "markdown",
   "id": "6187ebff-2926-4226-b04c-dfa219f36215",
   "metadata": {},
   "source": [
    "Q.3 For the given 2-D array arr=np.array([10, 20, 30], [40, 50, 60], [70, 80, 90]), access \n",
    "elements using row and column indices as follows:"
   ]
  },
  {
   "cell_type": "markdown",
   "id": "1a8cffc3-c7fe-4f0a-a43c-8d5ee9849da1",
   "metadata": {},
   "source": [
    "a) Access 1st row, 2nd column  "
   ]
  },
  {
   "cell_type": "code",
   "execution_count": 37,
   "id": "e401c7b8-a8f8-48d8-b0e5-7616c7380a44",
   "metadata": {},
   "outputs": [
    {
     "name": "stdout",
     "output_type": "stream",
     "text": [
      "20\n"
     ]
    }
   ],
   "source": [
    "arr=np.array([[10,20,30],[40,50,60],[70,80,90]])\n",
    "print(arr[0][1])"
   ]
  },
  {
   "cell_type": "markdown",
   "id": "3eab740d-d293-4ade-a0d5-656de50e81a6",
   "metadata": {},
   "source": [
    "b) Access 3rd row, 1st column "
   ]
  },
  {
   "cell_type": "code",
   "execution_count": 40,
   "id": "de8973d3-87b2-4e59-aa33-2601b7bca6ed",
   "metadata": {},
   "outputs": [
    {
     "name": "stdout",
     "output_type": "stream",
     "text": [
      "70\n"
     ]
    }
   ],
   "source": [
    "print(arr[2][0])"
   ]
  },
  {
   "cell_type": "markdown",
   "id": "3093dbba-20c0-4a0d-9d71-af8c5bb2f51c",
   "metadata": {},
   "source": [
    "Q.4 Write program to create an 1-D NumPy array named <<Your Name>> with evenly \n",
    "spaced 25 numbers from 10 to 100 using linspace(). Print the dimensions of the array, \n",
    "shape, total elements, the data type of each element and total number of bytes consumed \n",
    "by the array. Find the transpose of this array using reshape() attribute. Can we do the same \n",
    "with T attribute? "
   ]
  },
  {
   "cell_type": "code",
   "execution_count": 43,
   "id": "965244ac-7eae-4766-ba43-59af97d4488d",
   "metadata": {},
   "outputs": [
    {
     "name": "stdout",
     "output_type": "stream",
     "text": [
      "[ 10.    13.75  17.5   21.25  25.    28.75  32.5   36.25  40.    43.75\n",
      "  47.5   51.25  55.    58.75  62.5   66.25  70.    73.75  77.5   81.25\n",
      "  85.    88.75  92.5   96.25 100.  ]\n",
      "1\n",
      "(25,)\n",
      "25\n",
      "float64\n",
      "200\n",
      "[[ 10.    13.75  17.5   21.25  25.    28.75  32.5   36.25  40.    43.75\n",
      "   47.5   51.25  55.    58.75  62.5   66.25  70.    73.75  77.5   81.25\n",
      "   85.    88.75  92.5   96.25 100.  ]]\n",
      "[ 10.    13.75  17.5   21.25  25.    28.75  32.5   36.25  40.    43.75\n",
      "  47.5   51.25  55.    58.75  62.5   66.25  70.    73.75  77.5   81.25\n",
      "  85.    88.75  92.5   96.25 100.  ]\n",
      "(25,)\n"
     ]
    }
   ],
   "source": [
    "Aniket=np.linspace(10,100,25)\n",
    "print(Aniket)\n",
    "print(np.ndim(Aniket))\n",
    "print(np.shape(Aniket))\n",
    "print(len(Aniket))\n",
    "print(Aniket.dtype)\n",
    "print(Aniket.nbytes)\n",
    "print(Aniket.reshape(1,25))\n",
    "print(Aniket.T)\n",
    "print(np.shape(Aniket))"
   ]
  },
  {
   "cell_type": "markdown",
   "id": "a272c46a-baea-4537-b497-de7c8f1c0c98",
   "metadata": {},
   "source": [
    "Q5. Create a 2-D Array of three rows and four columns, named ucs420_<your_name>> \n",
    "with following values – 10, 20, 30, 40, 50, 60, 70, 80, 90, 15, 20, 35. Compute the mean, \n",
    "median, max, min, unique elements. Reshape the array to four rows and three columns and \n",
    "name it as reshaped_ ucs420_<your_name>>. Resize the array to two rows and three \n",
    "columns and name it as resized_ ucs420_<your_name>>."
   ]
  },
  {
   "cell_type": "code",
   "execution_count": 46,
   "id": "a63d41f5-90f0-41a2-a34f-0921c8a71c3a",
   "metadata": {},
   "outputs": [
    {
     "name": "stdout",
     "output_type": "stream",
     "text": [
      "Mean: 43.333333333333336\n",
      "Median: 37.5\n",
      "Max: 90\n",
      "Min: 10\n",
      "[[10 20 30]\n",
      " [40 50 60]\n",
      " [70 80 90]\n",
      " [15 20 35]]\n",
      "[[10 20 30 40]\n",
      " [50 60 70 80]\n",
      " [90 15 20 35]]\n"
     ]
    }
   ],
   "source": [
    "ucs420_aniket=np.array([[10,20,30,40],[50,60,70,80],[90,15,20,35]])\n",
    "m=np.mean(ucs420_aniket)\n",
    "print(\"Mean:\",m)\n",
    "x=np.median(ucs420_aniket)\n",
    "print(\"Median:\",x)\n",
    "y=np.max(ucs420_aniket)\n",
    "print(\"Max:\",y)\n",
    "z=np.min(ucs420_aniket)\n",
    "print(\"Min:\",z)\n",
    "reshaped_ucs420_aniket=ucs420_aniket.reshape(4,3)\n",
    "print(reshaped_ucs420_aniket)\n",
    "resized_ucs420_aniket=np.resize(reshaped_ucs420_aniket,(2,3))\n",
    "print(ucs420_aniket)"
   ]
  }
 ],
 "metadata": {
  "kernelspec": {
   "display_name": "Python [conda env:base] *",
   "language": "python",
   "name": "conda-base-py"
  },
  "language_info": {
   "codemirror_mode": {
    "name": "ipython",
    "version": 3
   },
   "file_extension": ".py",
   "mimetype": "text/x-python",
   "name": "python",
   "nbconvert_exporter": "python",
   "pygments_lexer": "ipython3",
   "version": "3.12.7"
  }
 },
 "nbformat": 4,
 "nbformat_minor": 5
}
